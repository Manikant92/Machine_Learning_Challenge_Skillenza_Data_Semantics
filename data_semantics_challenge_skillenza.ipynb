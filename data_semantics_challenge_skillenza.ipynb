{
 "cells": [
  {
   "cell_type": "code",
   "execution_count": 1,
   "metadata": {
    "collapsed": true
   },
   "outputs": [],
   "source": [
    "import pandas as pd"
   ]
  },
  {
   "cell_type": "code",
   "execution_count": 2,
   "metadata": {
    "collapsed": true
   },
   "outputs": [],
   "source": [
    "import matplotlib.pyplot as plt"
   ]
  },
  {
   "cell_type": "code",
   "execution_count": 3,
   "metadata": {
    "collapsed": true
   },
   "outputs": [],
   "source": [
    "import seaborn as sns"
   ]
  },
  {
   "cell_type": "code",
   "execution_count": 4,
   "metadata": {
    "collapsed": true
   },
   "outputs": [],
   "source": [
    "from sklearn.preprocessing import StandardScaler"
   ]
  },
  {
   "cell_type": "code",
   "execution_count": 5,
   "metadata": {
    "collapsed": true
   },
   "outputs": [],
   "source": [
    "from sklearn.preprocessing import MinMaxScaler"
   ]
  },
  {
   "cell_type": "code",
   "execution_count": 6,
   "metadata": {
    "collapsed": true
   },
   "outputs": [],
   "source": [
    "from mpl_toolkits.mplot3d import Axes3D"
   ]
  },
  {
   "cell_type": "code",
   "execution_count": 7,
   "metadata": {
    "collapsed": true
   },
   "outputs": [],
   "source": [
    "#file = 'C:/Users/mkella/Music/Skillenza- Data Semantics ML Problem/'"
   ]
  },
  {
   "cell_type": "code",
   "execution_count": 8,
   "metadata": {
    "collapsed": true
   },
   "outputs": [],
   "source": [
    "df = pd.read_csv('data_semantics_training.csv')"
   ]
  },
  {
   "cell_type": "code",
   "execution_count": 9,
   "metadata": {},
   "outputs": [
    {
     "data": {
      "text/html": [
       "<div>\n",
       "<style>\n",
       "    .dataframe thead tr:only-child th {\n",
       "        text-align: right;\n",
       "    }\n",
       "\n",
       "    .dataframe thead th {\n",
       "        text-align: left;\n",
       "    }\n",
       "\n",
       "    .dataframe tbody tr th {\n",
       "        vertical-align: top;\n",
       "    }\n",
       "</style>\n",
       "<table border=\"1\" class=\"dataframe\">\n",
       "  <thead>\n",
       "    <tr style=\"text-align: right;\">\n",
       "      <th></th>\n",
       "      <th>serial_no</th>\n",
       "      <th>C1</th>\n",
       "      <th>C2</th>\n",
       "      <th>C3</th>\n",
       "      <th>C4</th>\n",
       "      <th>C5</th>\n",
       "      <th>C6</th>\n",
       "      <th>C7</th>\n",
       "      <th>C8</th>\n",
       "    </tr>\n",
       "  </thead>\n",
       "  <tbody>\n",
       "    <tr>\n",
       "      <th>0</th>\n",
       "      <td>1</td>\n",
       "      <td>1</td>\n",
       "      <td>1</td>\n",
       "      <td>15200</td>\n",
       "      <td>80</td>\n",
       "      <td>6.50</td>\n",
       "      <td>24.0</td>\n",
       "      <td>Healthy</td>\n",
       "      <td>Live</td>\n",
       "    </tr>\n",
       "    <tr>\n",
       "      <th>1</th>\n",
       "      <td>2</td>\n",
       "      <td>2</td>\n",
       "      <td>2</td>\n",
       "      <td>26100</td>\n",
       "      <td>90</td>\n",
       "      <td>6.75</td>\n",
       "      <td>30.0</td>\n",
       "      <td>Healthy</td>\n",
       "      <td>Closed</td>\n",
       "    </tr>\n",
       "    <tr>\n",
       "      <th>2</th>\n",
       "      <td>3</td>\n",
       "      <td>3</td>\n",
       "      <td>3</td>\n",
       "      <td>22400</td>\n",
       "      <td>80</td>\n",
       "      <td>7.50</td>\n",
       "      <td>36.0</td>\n",
       "      <td>Defaulted</td>\n",
       "      <td>NaN</td>\n",
       "    </tr>\n",
       "    <tr>\n",
       "      <th>3</th>\n",
       "      <td>4</td>\n",
       "      <td>4</td>\n",
       "      <td>4</td>\n",
       "      <td>21600</td>\n",
       "      <td>90</td>\n",
       "      <td>7.50</td>\n",
       "      <td>42.0</td>\n",
       "      <td>Defaulted</td>\n",
       "      <td>NaN</td>\n",
       "    </tr>\n",
       "    <tr>\n",
       "      <th>4</th>\n",
       "      <td>5</td>\n",
       "      <td>5</td>\n",
       "      <td>5</td>\n",
       "      <td>44000</td>\n",
       "      <td>100</td>\n",
       "      <td>10.00</td>\n",
       "      <td>60.0</td>\n",
       "      <td>Healthy</td>\n",
       "      <td>Live</td>\n",
       "    </tr>\n",
       "  </tbody>\n",
       "</table>\n",
       "</div>"
      ],
      "text/plain": [
       "   serial_no  C1  C2     C3   C4     C5    C6         C7      C8\n",
       "0          1   1   1  15200   80   6.50  24.0    Healthy    Live\n",
       "1          2   2   2  26100   90   6.75  30.0    Healthy  Closed\n",
       "2          3   3   3  22400   80   7.50  36.0  Defaulted     NaN\n",
       "3          4   4   4  21600   90   7.50  42.0  Defaulted     NaN\n",
       "4          5   5   5  44000  100  10.00  60.0    Healthy    Live"
      ]
     },
     "execution_count": 9,
     "metadata": {},
     "output_type": "execute_result"
    }
   ],
   "source": [
    "df.head()"
   ]
  },
  {
   "cell_type": "code",
   "execution_count": 10,
   "metadata": {},
   "outputs": [
    {
     "data": {
      "text/html": [
       "<div>\n",
       "<style>\n",
       "    .dataframe thead tr:only-child th {\n",
       "        text-align: right;\n",
       "    }\n",
       "\n",
       "    .dataframe thead th {\n",
       "        text-align: left;\n",
       "    }\n",
       "\n",
       "    .dataframe tbody tr th {\n",
       "        vertical-align: top;\n",
       "    }\n",
       "</style>\n",
       "<table border=\"1\" class=\"dataframe\">\n",
       "  <thead>\n",
       "    <tr style=\"text-align: right;\">\n",
       "      <th></th>\n",
       "      <th>serial_no</th>\n",
       "      <th>C1</th>\n",
       "      <th>C2</th>\n",
       "      <th>C3</th>\n",
       "      <th>C4</th>\n",
       "      <th>C5</th>\n",
       "      <th>C6</th>\n",
       "      <th>C7</th>\n",
       "      <th>C8</th>\n",
       "    </tr>\n",
       "  </thead>\n",
       "  <tbody>\n",
       "    <tr>\n",
       "      <th>694</th>\n",
       "      <td>695</td>\n",
       "      <td>695</td>\n",
       "      <td>695</td>\n",
       "      <td>26100</td>\n",
       "      <td>90</td>\n",
       "      <td>8.50</td>\n",
       "      <td>30.0</td>\n",
       "      <td>Healthy</td>\n",
       "      <td>Live</td>\n",
       "    </tr>\n",
       "    <tr>\n",
       "      <th>695</th>\n",
       "      <td>696</td>\n",
       "      <td>696</td>\n",
       "      <td>696</td>\n",
       "      <td>16800</td>\n",
       "      <td>80</td>\n",
       "      <td>6.75</td>\n",
       "      <td>18.0</td>\n",
       "      <td>Healthy</td>\n",
       "      <td>Closed</td>\n",
       "    </tr>\n",
       "    <tr>\n",
       "      <th>696</th>\n",
       "      <td>697</td>\n",
       "      <td>697</td>\n",
       "      <td>697</td>\n",
       "      <td>15400</td>\n",
       "      <td>70</td>\n",
       "      <td>6.50</td>\n",
       "      <td>24.0</td>\n",
       "      <td>Healthy</td>\n",
       "      <td>Closed</td>\n",
       "    </tr>\n",
       "    <tr>\n",
       "      <th>697</th>\n",
       "      <td>698</td>\n",
       "      <td>698</td>\n",
       "      <td>698</td>\n",
       "      <td>16800</td>\n",
       "      <td>80</td>\n",
       "      <td>7.75</td>\n",
       "      <td>24.0</td>\n",
       "      <td>Healthy</td>\n",
       "      <td>Closed</td>\n",
       "    </tr>\n",
       "    <tr>\n",
       "      <th>698</th>\n",
       "      <td>699</td>\n",
       "      <td>699</td>\n",
       "      <td>699</td>\n",
       "      <td>31500</td>\n",
       "      <td>90</td>\n",
       "      <td>7.00</td>\n",
       "      <td>24.0</td>\n",
       "      <td>Healthy</td>\n",
       "      <td>Closed</td>\n",
       "    </tr>\n",
       "  </tbody>\n",
       "</table>\n",
       "</div>"
      ],
      "text/plain": [
       "     serial_no   C1   C2     C3  C4    C5    C6       C7      C8\n",
       "694        695  695  695  26100  90  8.50  30.0  Healthy    Live\n",
       "695        696  696  696  16800  80  6.75  18.0  Healthy  Closed\n",
       "696        697  697  697  15400  70  6.50  24.0  Healthy  Closed\n",
       "697        698  698  698  16800  80  7.75  24.0  Healthy  Closed\n",
       "698        699  699  699  31500  90  7.00  24.0  Healthy  Closed"
      ]
     },
     "execution_count": 10,
     "metadata": {},
     "output_type": "execute_result"
    }
   ],
   "source": [
    "df.tail()"
   ]
  },
  {
   "cell_type": "code",
   "execution_count": 11,
   "metadata": {},
   "outputs": [
    {
     "data": {
      "text/html": [
       "<div>\n",
       "<style>\n",
       "    .dataframe thead tr:only-child th {\n",
       "        text-align: right;\n",
       "    }\n",
       "\n",
       "    .dataframe thead th {\n",
       "        text-align: left;\n",
       "    }\n",
       "\n",
       "    .dataframe tbody tr th {\n",
       "        vertical-align: top;\n",
       "    }\n",
       "</style>\n",
       "<table border=\"1\" class=\"dataframe\">\n",
       "  <thead>\n",
       "    <tr style=\"text-align: right;\">\n",
       "      <th></th>\n",
       "      <th>serial_no</th>\n",
       "      <th>C1</th>\n",
       "      <th>C2</th>\n",
       "      <th>C3</th>\n",
       "      <th>C4</th>\n",
       "      <th>C5</th>\n",
       "      <th>C6</th>\n",
       "    </tr>\n",
       "  </thead>\n",
       "  <tbody>\n",
       "    <tr>\n",
       "      <th>count</th>\n",
       "      <td>699.000000</td>\n",
       "      <td>699.000000</td>\n",
       "      <td>699.000000</td>\n",
       "      <td>699.000000</td>\n",
       "      <td>699.000000</td>\n",
       "      <td>645.000000</td>\n",
       "      <td>645.000000</td>\n",
       "    </tr>\n",
       "    <tr>\n",
       "      <th>mean</th>\n",
       "      <td>350.000000</td>\n",
       "      <td>350.000000</td>\n",
       "      <td>350.000000</td>\n",
       "      <td>19917.024320</td>\n",
       "      <td>63.805436</td>\n",
       "      <td>5.675194</td>\n",
       "      <td>21.200000</td>\n",
       "    </tr>\n",
       "    <tr>\n",
       "      <th>std</th>\n",
       "      <td>201.928205</td>\n",
       "      <td>201.928205</td>\n",
       "      <td>201.928205</td>\n",
       "      <td>12307.904338</td>\n",
       "      <td>25.651330</td>\n",
       "      <td>1.466872</td>\n",
       "      <td>8.746534</td>\n",
       "    </tr>\n",
       "    <tr>\n",
       "      <th>min</th>\n",
       "      <td>1.000000</td>\n",
       "      <td>1.000000</td>\n",
       "      <td>1.000000</td>\n",
       "      <td>0.000000</td>\n",
       "      <td>0.000000</td>\n",
       "      <td>4.000000</td>\n",
       "      <td>12.000000</td>\n",
       "    </tr>\n",
       "    <tr>\n",
       "      <th>25%</th>\n",
       "      <td>175.500000</td>\n",
       "      <td>175.500000</td>\n",
       "      <td>175.500000</td>\n",
       "      <td>13200.000000</td>\n",
       "      <td>50.000000</td>\n",
       "      <td>4.500000</td>\n",
       "      <td>18.000000</td>\n",
       "    </tr>\n",
       "    <tr>\n",
       "      <th>50%</th>\n",
       "      <td>350.000000</td>\n",
       "      <td>350.000000</td>\n",
       "      <td>350.000000</td>\n",
       "      <td>18900.000000</td>\n",
       "      <td>70.000000</td>\n",
       "      <td>5.250000</td>\n",
       "      <td>18.000000</td>\n",
       "    </tr>\n",
       "    <tr>\n",
       "      <th>75%</th>\n",
       "      <td>524.500000</td>\n",
       "      <td>524.500000</td>\n",
       "      <td>524.500000</td>\n",
       "      <td>25200.000000</td>\n",
       "      <td>80.000000</td>\n",
       "      <td>6.750000</td>\n",
       "      <td>24.000000</td>\n",
       "    </tr>\n",
       "    <tr>\n",
       "      <th>max</th>\n",
       "      <td>699.000000</td>\n",
       "      <td>699.000000</td>\n",
       "      <td>699.000000</td>\n",
       "      <td>106200.000000</td>\n",
       "      <td>100.000000</td>\n",
       "      <td>10.500000</td>\n",
       "      <td>60.000000</td>\n",
       "    </tr>\n",
       "  </tbody>\n",
       "</table>\n",
       "</div>"
      ],
      "text/plain": [
       "        serial_no          C1          C2             C3          C4  \\\n",
       "count  699.000000  699.000000  699.000000     699.000000  699.000000   \n",
       "mean   350.000000  350.000000  350.000000   19917.024320   63.805436   \n",
       "std    201.928205  201.928205  201.928205   12307.904338   25.651330   \n",
       "min      1.000000    1.000000    1.000000       0.000000    0.000000   \n",
       "25%    175.500000  175.500000  175.500000   13200.000000   50.000000   \n",
       "50%    350.000000  350.000000  350.000000   18900.000000   70.000000   \n",
       "75%    524.500000  524.500000  524.500000   25200.000000   80.000000   \n",
       "max    699.000000  699.000000  699.000000  106200.000000  100.000000   \n",
       "\n",
       "               C5          C6  \n",
       "count  645.000000  645.000000  \n",
       "mean     5.675194   21.200000  \n",
       "std      1.466872    8.746534  \n",
       "min      4.000000   12.000000  \n",
       "25%      4.500000   18.000000  \n",
       "50%      5.250000   18.000000  \n",
       "75%      6.750000   24.000000  \n",
       "max     10.500000   60.000000  "
      ]
     },
     "execution_count": 11,
     "metadata": {},
     "output_type": "execute_result"
    }
   ],
   "source": [
    "df.describe()"
   ]
  },
  {
   "cell_type": "code",
   "execution_count": 12,
   "metadata": {},
   "outputs": [
    {
     "name": "stdout",
     "output_type": "stream",
     "text": [
      "<class 'pandas.core.frame.DataFrame'>\n",
      "RangeIndex: 699 entries, 0 to 698\n",
      "Data columns (total 9 columns):\n",
      "serial_no    699 non-null int64\n",
      "C1           699 non-null int64\n",
      "C2           699 non-null int64\n",
      "C3           699 non-null int64\n",
      "C4           699 non-null int64\n",
      "C5           645 non-null float64\n",
      "C6           645 non-null float64\n",
      "C7           699 non-null object\n",
      "C8           602 non-null object\n",
      "dtypes: float64(2), int64(5), object(2)\n",
      "memory usage: 49.2+ KB\n"
     ]
    }
   ],
   "source": [
    "df.info()"
   ]
  },
  {
   "cell_type": "code",
   "execution_count": 13,
   "metadata": {},
   "outputs": [
    {
     "data": {
      "text/plain": [
       "RangeIndex(start=0, stop=699, step=1)"
      ]
     },
     "execution_count": 13,
     "metadata": {},
     "output_type": "execute_result"
    }
   ],
   "source": [
    "df.index"
   ]
  },
  {
   "cell_type": "code",
   "execution_count": 14,
   "metadata": {},
   "outputs": [
    {
     "data": {
      "text/plain": [
       "Index(['serial_no', 'C1', 'C2', 'C3', 'C4', 'C5', 'C6', 'C7', 'C8'], dtype='object')"
      ]
     },
     "execution_count": 14,
     "metadata": {},
     "output_type": "execute_result"
    }
   ],
   "source": [
    "df.columns"
   ]
  },
  {
   "cell_type": "code",
   "execution_count": 15,
   "metadata": {},
   "outputs": [
    {
     "data": {
      "text/plain": [
       "(699, 9)"
      ]
     },
     "execution_count": 15,
     "metadata": {},
     "output_type": "execute_result"
    }
   ],
   "source": [
    "df.shape"
   ]
  },
  {
   "cell_type": "code",
   "execution_count": 16,
   "metadata": {},
   "outputs": [
    {
     "data": {
      "text/plain": [
       "serial_no      int64\n",
       "C1             int64\n",
       "C2             int64\n",
       "C3             int64\n",
       "C4             int64\n",
       "C5           float64\n",
       "C6           float64\n",
       "C7            object\n",
       "C8            object\n",
       "dtype: object"
      ]
     },
     "execution_count": 16,
     "metadata": {},
     "output_type": "execute_result"
    }
   ],
   "source": [
    "df.dtypes"
   ]
  },
  {
   "cell_type": "code",
   "execution_count": 17,
   "metadata": {},
   "outputs": [
    {
     "data": {
      "text/html": [
       "<div>\n",
       "<style>\n",
       "    .dataframe thead tr:only-child th {\n",
       "        text-align: right;\n",
       "    }\n",
       "\n",
       "    .dataframe thead th {\n",
       "        text-align: left;\n",
       "    }\n",
       "\n",
       "    .dataframe tbody tr th {\n",
       "        vertical-align: top;\n",
       "    }\n",
       "</style>\n",
       "<table border=\"1\" class=\"dataframe\">\n",
       "  <thead>\n",
       "    <tr style=\"text-align: right;\">\n",
       "      <th></th>\n",
       "      <th>C7</th>\n",
       "      <th>C8</th>\n",
       "    </tr>\n",
       "  </thead>\n",
       "  <tbody>\n",
       "    <tr>\n",
       "      <th>count</th>\n",
       "      <td>699</td>\n",
       "      <td>602</td>\n",
       "    </tr>\n",
       "    <tr>\n",
       "      <th>unique</th>\n",
       "      <td>4</td>\n",
       "      <td>2</td>\n",
       "    </tr>\n",
       "    <tr>\n",
       "      <th>top</th>\n",
       "      <td>Healthy</td>\n",
       "      <td>Closed</td>\n",
       "    </tr>\n",
       "    <tr>\n",
       "      <th>freq</th>\n",
       "      <td>580</td>\n",
       "      <td>519</td>\n",
       "    </tr>\n",
       "  </tbody>\n",
       "</table>\n",
       "</div>"
      ],
      "text/plain": [
       "             C7      C8\n",
       "count       699     602\n",
       "unique        4       2\n",
       "top     Healthy  Closed\n",
       "freq        580     519"
      ]
     },
     "execution_count": 17,
     "metadata": {},
     "output_type": "execute_result"
    }
   ],
   "source": [
    "df.describe(include=['object'])"
   ]
  },
  {
   "cell_type": "code",
   "execution_count": 18,
   "metadata": {},
   "outputs": [
    {
     "data": {
      "text/plain": [
       "Healthy      580\n",
       "None          54\n",
       "Defaulted     43\n",
       "Unhealthy     22\n",
       "Name: C7, dtype: int64"
      ]
     },
     "execution_count": 18,
     "metadata": {},
     "output_type": "execute_result"
    }
   ],
   "source": [
    "df.C7.value_counts()"
   ]
  },
  {
   "cell_type": "code",
   "execution_count": 19,
   "metadata": {},
   "outputs": [
    {
     "data": {
      "text/plain": [
       "Closed    519\n",
       "Live       83\n",
       "Name: C8, dtype: int64"
      ]
     },
     "execution_count": 19,
     "metadata": {},
     "output_type": "execute_result"
    }
   ],
   "source": [
    "df.C8.value_counts()"
   ]
  },
  {
   "cell_type": "code",
   "execution_count": 20,
   "metadata": {},
   "outputs": [
    {
     "data": {
      "text/plain": [
       "0        54\n",
       "16800    47\n",
       "26100    42\n",
       "23200    28\n",
       "20300    20\n",
       "Name: C3, dtype: int64"
      ]
     },
     "execution_count": 20,
     "metadata": {},
     "output_type": "execute_result"
    }
   ],
   "source": [
    "df.C3.value_counts()[0:5]"
   ]
  },
  {
   "cell_type": "code",
   "execution_count": 21,
   "metadata": {},
   "outputs": [
    {
     "data": {
      "text/plain": [
       "80    153\n",
       "90    142\n",
       "70    116\n",
       "60     87\n",
       "50     55\n",
       "0      54\n",
       "Name: C4, dtype: int64"
      ]
     },
     "execution_count": 21,
     "metadata": {},
     "output_type": "execute_result"
    }
   ],
   "source": [
    "df.C4.value_counts()[0:6]"
   ]
  },
  {
   "cell_type": "code",
   "execution_count": 22,
   "metadata": {},
   "outputs": [
    {
     "data": {
      "text/plain": [
       "4.25     150\n",
       "4.50      99\n",
       "6.50      54\n",
       "6.75      44\n",
       "4.75      44\n",
       "7.75      39\n",
       "5.50      36\n",
       "5.25      22\n",
       "8.00      20\n",
       "6.25      20\n",
       "5.00      19\n",
       "7.00      18\n",
       "5.75      12\n",
       "7.25      11\n",
       "7.50      10\n",
       "8.75       9\n",
       "8.25       7\n",
       "6.00       7\n",
       "4.00       6\n",
       "9.00       5\n",
       "9.50       4\n",
       "10.50      3\n",
       "10.00      3\n",
       "9.25       1\n",
       "10.25      1\n",
       "8.50       1\n",
       "Name: C5, dtype: int64"
      ]
     },
     "execution_count": 22,
     "metadata": {},
     "output_type": "execute_result"
    }
   ],
   "source": [
    "df.C5.value_counts()"
   ]
  },
  {
   "cell_type": "code",
   "execution_count": 23,
   "metadata": {},
   "outputs": [
    {
     "data": {
      "text/plain": [
       "18.0    258\n",
       "12.0    144\n",
       "24.0    121\n",
       "30.0     55\n",
       "36.0     34\n",
       "42.0     20\n",
       "48.0      6\n",
       "54.0      4\n",
       "60.0      3\n",
       "Name: C6, dtype: int64"
      ]
     },
     "execution_count": 23,
     "metadata": {},
     "output_type": "execute_result"
    }
   ],
   "source": [
    "df.C6.value_counts()"
   ]
  },
  {
   "cell_type": "code",
   "execution_count": 24,
   "metadata": {},
   "outputs": [
    {
     "data": {
      "text/plain": [
       "serial_no     0\n",
       "C1            0\n",
       "C2            0\n",
       "C3            0\n",
       "C4            0\n",
       "C5           54\n",
       "C6           54\n",
       "C7            0\n",
       "C8           97\n",
       "dtype: int64"
      ]
     },
     "execution_count": 24,
     "metadata": {},
     "output_type": "execute_result"
    }
   ],
   "source": [
    "df.isnull().sum()"
   ]
  },
  {
   "cell_type": "code",
   "execution_count": 25,
   "metadata": {},
   "outputs": [
    {
     "data": {
      "text/plain": [
       "<matplotlib.axes._subplots.AxesSubplot at 0x1d3e8055358>"
      ]
     },
     "execution_count": 25,
     "metadata": {},
     "output_type": "execute_result"
    }
   ],
   "source": [
    "df['C8'].value_counts(dropna=False).plot(kind='barh')"
   ]
  },
  {
   "cell_type": "code",
   "execution_count": 26,
   "metadata": {},
   "outputs": [
    {
     "data": {
      "image/png": "[encoded data removed]",
      "text/plain": [
       "<matplotlib.figure.Figure at 0x1d3e8054470>"
      ]
     },
     "metadata": {},
     "output_type": "display_data"
    }
   ],
   "source": [
    "plt.show()"
   ]
  },
  {
   "cell_type": "code",
   "execution_count": 27,
   "metadata": {},
   "outputs": [
    {
     "data": {
      "text/plain": [
       "Healthy      580\n",
       "None          54\n",
       "Defaulted     43\n",
       "Unhealthy     22\n",
       "Name: C7, dtype: int64"
      ]
     },
     "execution_count": 27,
     "metadata": {},
     "output_type": "execute_result"
    }
   ],
   "source": [
    "df['C7'].value_counts(dropna=False)"
   ]
  },
  {
   "cell_type": "code",
   "execution_count": 28,
   "metadata": {},
   "outputs": [
    {
     "data": {
      "text/plain": [
       " 4.25     150\n",
       " 4.50      99\n",
       " 6.50      54\n",
       "NaN        54\n",
       " 6.75      44\n",
       " 4.75      44\n",
       " 7.75      39\n",
       " 5.50      36\n",
       " 5.25      22\n",
       " 8.00      20\n",
       " 6.25      20\n",
       " 5.00      19\n",
       " 7.00      18\n",
       " 5.75      12\n",
       " 7.25      11\n",
       " 7.50      10\n",
       " 8.75       9\n",
       " 8.25       7\n",
       " 6.00       7\n",
       " 4.00       6\n",
       " 9.00       5\n",
       " 9.50       4\n",
       " 10.50      3\n",
       " 10.00      3\n",
       " 9.25       1\n",
       " 10.25      1\n",
       " 8.50       1\n",
       "Name: C5, dtype: int64"
      ]
     },
     "execution_count": 28,
     "metadata": {},
     "output_type": "execute_result"
    }
   ],
   "source": [
    "df['C5'].value_counts(dropna=False)"
   ]
  },
  {
   "cell_type": "code",
   "execution_count": 29,
   "metadata": {},
   "outputs": [
    {
     "data": {
      "text/plain": [
       " 18.0    258\n",
       " 12.0    144\n",
       " 24.0    121\n",
       " 30.0     55\n",
       "NaN       54\n",
       " 36.0     34\n",
       " 42.0     20\n",
       " 48.0      6\n",
       " 54.0      4\n",
       " 60.0      3\n",
       "Name: C6, dtype: int64"
      ]
     },
     "execution_count": 29,
     "metadata": {},
     "output_type": "execute_result"
    }
   ],
   "source": [
    "df['C6'].value_counts(dropna=False)"
   ]
  },
  {
   "cell_type": "code",
   "execution_count": 30,
   "metadata": {},
   "outputs": [
    {
     "data": {
      "text/plain": [
       "<matplotlib.axes._subplots.AxesSubplot at 0x1d3e80dc828>"
      ]
     },
     "execution_count": 30,
     "metadata": {},
     "output_type": "execute_result"
    }
   ],
   "source": [
    "df['C7'].value_counts(dropna=False).plot(kind='barh')"
   ]
  },
  {
   "cell_type": "code",
   "execution_count": 31,
   "metadata": {},
   "outputs": [
    {
     "data": {
      "image/png": "[encoded data removed]",
      "text/plain": [
       "<matplotlib.figure.Figure at 0x1d3e80baf28>"
      ]
     },
     "metadata": {},
     "output_type": "display_data"
    }
   ],
   "source": [
    "plt.show()"
   ]
  },
  {
   "cell_type": "code",
   "execution_count": 32,
   "metadata": {},
   "outputs": [
    {
     "data": {
      "text/plain": [
       "<matplotlib.axes._subplots.AxesSubplot at 0x1d3e82fb550>"
      ]
     },
     "execution_count": 32,
     "metadata": {},
     "output_type": "execute_result"
    }
   ],
   "source": [
    "df.C3.value_counts(dropna=False)[0:5].plot(kind='barh')"
   ]
  },
  {
   "cell_type": "code",
   "execution_count": 33,
   "metadata": {},
   "outputs": [
    {
     "data": {
      "image/png": "[encoded data removed]",
      "text/plain": [
       "<matplotlib.figure.Figure at 0x1d3e8104e80>"
      ]
     },
     "metadata": {},
     "output_type": "display_data"
    }
   ],
   "source": [
    "plt.show()"
   ]
  },
  {
   "cell_type": "code",
   "execution_count": 34,
   "metadata": {},
   "outputs": [
    {
     "data": {
      "text/plain": [
       "<matplotlib.axes._subplots.AxesSubplot at 0x1d3e804a588>"
      ]
     },
     "execution_count": 34,
     "metadata": {},
     "output_type": "execute_result"
    }
   ],
   "source": [
    "df.C4.value_counts(dropna=False)[0:6].plot(kind='barh')"
   ]
  },
  {
   "cell_type": "code",
   "execution_count": 35,
   "metadata": {},
   "outputs": [
    {
     "data": {
      "image/png": "[encoded data removed]",
      "text/plain": [
       "<matplotlib.figure.Figure at 0x1d3e812ee48>"
      ]
     },
     "metadata": {},
     "output_type": "display_data"
    }
   ],
   "source": [
    "plt.show()"
   ]
  },
  {
   "cell_type": "code",
   "execution_count": 36,
   "metadata": {
    "collapsed": true
   },
   "outputs": [],
   "source": [
    "visualize_df = df[['C3','C4','C5','C6','C7','C8']]"
   ]
  },
  {
   "cell_type": "code",
   "execution_count": 37,
   "metadata": {
    "collapsed": true
   },
   "outputs": [],
   "source": [
    "#visualize_df"
   ]
  },
  {
   "cell_type": "code",
   "execution_count": 38,
   "metadata": {},
   "outputs": [
    {
     "name": "stderr",
     "output_type": "stream",
     "text": [
      "C:\\ProgramData\\Anaconda3\\lib\\site-packages\\ipykernel_launcher.py:1: FutureWarning: pandas.scatter_matrix is deprecated. Use pandas.plotting.scatter_matrix instead\n",
      "  \"\"\"Entry point for launching an IPython kernel.\n"
     ]
    },
    {
     "data": {
      "text/plain": [
       "array([[<matplotlib.axes._subplots.AxesSubplot object at 0x000001D3E84DCFD0>,\n",
       "        <matplotlib.axes._subplots.AxesSubplot object at 0x000001D3E8546C50>,\n",
       "        <matplotlib.axes._subplots.AxesSubplot object at 0x000001D3E857EC18>,\n",
       "        <matplotlib.axes._subplots.AxesSubplot object at 0x000001D3E85C1198>],\n",
       "       [<matplotlib.axes._subplots.AxesSubplot object at 0x000001D3E85FB198>,\n",
       "        <matplotlib.axes._subplots.AxesSubplot object at 0x000001D3E85FB1D0>,\n",
       "        <matplotlib.axes._subplots.AxesSubplot object at 0x000001D3E865E6D8>,\n",
       "        <matplotlib.axes._subplots.AxesSubplot object at 0x000001D3E86985F8>],\n",
       "       [<matplotlib.axes._subplots.AxesSubplot object at 0x000001D3E86D45F8>,\n",
       "        <matplotlib.axes._subplots.AxesSubplot object at 0x000001D3E866E0B8>,\n",
       "        <matplotlib.axes._subplots.AxesSubplot object at 0x000001D3E8740128>,\n",
       "        <matplotlib.axes._subplots.AxesSubplot object at 0x000001D3E877A128>],\n",
       "       [<matplotlib.axes._subplots.AxesSubplot object at 0x000001D3E87B4128>,\n",
       "        <matplotlib.axes._subplots.AxesSubplot object at 0x000001D3E87EF668>,\n",
       "        <matplotlib.axes._subplots.AxesSubplot object at 0x000001D3E8819C88>,\n",
       "        <matplotlib.axes._subplots.AxesSubplot object at 0x000001D3E8853C88>]], dtype=object)"
      ]
     },
     "execution_count": 38,
     "metadata": {},
     "output_type": "execute_result"
    }
   ],
   "source": [
    "pd.scatter_matrix(visualize_df,alpha=0.2,figsize=(15.0,12.0))"
   ]
  },
  {
   "cell_type": "code",
   "execution_count": 39,
   "metadata": {
    "collapsed": true
   },
   "outputs": [],
   "source": [
    "#plt.savefig('scatter_plot.png')"
   ]
  },
  {
   "cell_type": "code",
   "execution_count": 40,
   "metadata": {},
   "outputs": [
    {
     "data": {
      "image/png": "[encoded data removed]",
      "text/plain": [
       "<matplotlib.figure.Figure at 0x1d3e8104550>"
      ]
     },
     "metadata": {},
     "output_type": "display_data"
    }
   ],
   "source": [
    "plt.show()"
   ]
  },
  {
   "cell_type": "code",
   "execution_count": 41,
   "metadata": {},
   "outputs": [
    {
     "data": {
      "text/plain": [
       "0"
      ]
     },
     "execution_count": 41,
     "metadata": {},
     "output_type": "execute_result"
    }
   ],
   "source": [
    "sum(df['C8']=='NaN')"
   ]
  },
  {
   "cell_type": "code",
   "execution_count": 42,
   "metadata": {
    "collapsed": true
   },
   "outputs": [],
   "source": [
    "live_null_df = df[df['C8'].isnull()]"
   ]
  },
  {
   "cell_type": "code",
   "execution_count": 43,
   "metadata": {
    "collapsed": true
   },
   "outputs": [],
   "source": [
    "live_null_df = live_null_df[['C3','C4','C5','C6','C7','C8']]"
   ]
  },
  {
   "cell_type": "code",
   "execution_count": 44,
   "metadata": {},
   "outputs": [
    {
     "data": {
      "text/plain": [
       "None         54\n",
       "Defaulted    43\n",
       "Name: C7, dtype: int64"
      ]
     },
     "execution_count": 44,
     "metadata": {},
     "output_type": "execute_result"
    }
   ],
   "source": [
    "live_null_df['C7'].value_counts()"
   ]
  },
  {
   "cell_type": "code",
   "execution_count": 45,
   "metadata": {
    "collapsed": true
   },
   "outputs": [],
   "source": [
    "actual_df = df[(df['C7']=='Healthy') |  (df['C7']=='Unhealthy')]"
   ]
  },
  {
   "cell_type": "code",
   "execution_count": 46,
   "metadata": {
    "collapsed": true
   },
   "outputs": [],
   "source": [
    "actual_df = actual_df[['C3','C4','C5','C6','C7','C8']]"
   ]
  },
  {
   "cell_type": "code",
   "execution_count": 47,
   "metadata": {
    "collapsed": true
   },
   "outputs": [],
   "source": [
    "#actual_df"
   ]
  },
  {
   "cell_type": "code",
   "execution_count": 48,
   "metadata": {},
   "outputs": [
    {
     "data": {
      "text/plain": [
       "<matplotlib.collections.PathCollection at 0x1d3e8e6a860>"
      ]
     },
     "execution_count": 48,
     "metadata": {},
     "output_type": "execute_result"
    }
   ],
   "source": [
    "plt.scatter(actual_df['C3'],actual_df['C7'])"
   ]
  },
  {
   "cell_type": "code",
   "execution_count": 49,
   "metadata": {},
   "outputs": [
    {
     "data": {
      "image/png": "[encoded data removed]",
      "text/plain": [
       "<matplotlib.figure.Figure at 0x1d3e8a05898>"
      ]
     },
     "metadata": {},
     "output_type": "display_data"
    }
   ],
   "source": [
    "plt.show()"
   ]
  },
  {
   "cell_type": "code",
   "execution_count": 50,
   "metadata": {
    "collapsed": true
   },
   "outputs": [],
   "source": [
    "#sns.catplot(x='C3',y='C7',data=actual_df)"
   ]
  },
  {
   "cell_type": "code",
   "execution_count": 51,
   "metadata": {},
   "outputs": [
    {
     "data": {
      "text/plain": [
       "<matplotlib.collections.PathCollection at 0x1d3e8ad59b0>"
      ]
     },
     "execution_count": 51,
     "metadata": {},
     "output_type": "execute_result"
    }
   ],
   "source": [
    "plt.scatter(actual_df['C4'],actual_df['C7'])"
   ]
  },
  {
   "cell_type": "code",
   "execution_count": 52,
   "metadata": {},
   "outputs": [
    {
     "data": {
      "image/png": "[encoded data removed]",
      "text/plain": [
       "<matplotlib.figure.Figure at 0x1d3e8a63080>"
      ]
     },
     "metadata": {},
     "output_type": "display_data"
    }
   ],
   "source": [
    "plt.show()"
   ]
  },
  {
   "cell_type": "code",
   "execution_count": 53,
   "metadata": {},
   "outputs": [
    {
     "data": {
      "text/plain": [
       "<matplotlib.collections.PathCollection at 0x1d3e8b16668>"
      ]
     },
     "execution_count": 53,
     "metadata": {},
     "output_type": "execute_result"
    }
   ],
   "source": [
    "plt.scatter(actual_df['C5'],actual_df['C7'])"
   ]
  },
  {
   "cell_type": "code",
   "execution_count": 54,
   "metadata": {},
   "outputs": [
    {
     "data": {
      "image/png": "[encoded data removed]",
      "text/plain": [
       "<matplotlib.figure.Figure at 0x1d3e8e7def0>"
      ]
     },
     "metadata": {},
     "output_type": "display_data"
    }
   ],
   "source": [
    "plt.show()"
   ]
  },
  {
   "cell_type": "code",
   "execution_count": 55,
   "metadata": {},
   "outputs": [
    {
     "data": {
      "text/plain": [
       "<matplotlib.collections.PathCollection at 0x1d3e8b62a20>"
      ]
     },
     "execution_count": 55,
     "metadata": {},
     "output_type": "execute_result"
    }
   ],
   "source": [
    "plt.scatter(actual_df['C6'],actual_df['C7'])"
   ]
  },
  {
   "cell_type": "code",
   "execution_count": 56,
   "metadata": {},
   "outputs": [
    {
     "data": {
      "image/png": "[encoded data removed]",
      "text/plain": [
       "<matplotlib.figure.Figure at 0x1d3e86086a0>"
      ]
     },
     "metadata": {},
     "output_type": "display_data"
    }
   ],
   "source": [
    "plt.show()"
   ]
  },
  {
   "cell_type": "code",
   "execution_count": 57,
   "metadata": {},
   "outputs": [
    {
     "data": {
      "text/plain": [
       "<matplotlib.collections.PathCollection at 0x1d3e8bb2b00>"
      ]
     },
     "execution_count": 57,
     "metadata": {},
     "output_type": "execute_result"
    }
   ],
   "source": [
    "plt.scatter(actual_df['C8'],actual_df['C7'])"
   ]
  },
  {
   "cell_type": "code",
   "execution_count": 58,
   "metadata": {},
   "outputs": [
    {
     "data": {
      "image/png": "[encoded data removed]",
      "text/plain": [
       "<matplotlib.figure.Figure at 0x1d3e8b2c940>"
      ]
     },
     "metadata": {},
     "output_type": "display_data"
    }
   ],
   "source": [
    "plt.show()"
   ]
  },
  {
   "cell_type": "code",
   "execution_count": 59,
   "metadata": {
    "collapsed": true
   },
   "outputs": [],
   "source": [
    "#ax1 = df.plot(kind='scatter', x='C3', y='C7', color='r')"
   ]
  },
  {
   "cell_type": "code",
   "execution_count": 60,
   "metadata": {
    "collapsed": true
   },
   "outputs": [],
   "source": [
    "#actual_df.C6.value_counts()"
   ]
  },
  {
   "cell_type": "code",
   "execution_count": 61,
   "metadata": {
    "collapsed": true
   },
   "outputs": [],
   "source": [
    "actual_df['C7'] = actual_df['C7'].astype('category')"
   ]
  },
  {
   "cell_type": "code",
   "execution_count": 62,
   "metadata": {
    "collapsed": true
   },
   "outputs": [],
   "source": [
    "actual_df['C8'] = actual_df['C8'].astype('category')"
   ]
  },
  {
   "cell_type": "code",
   "execution_count": 63,
   "metadata": {},
   "outputs": [
    {
     "data": {
      "text/plain": [
       "C3       int64\n",
       "C4       int64\n",
       "C5     float64\n",
       "C6     float64\n",
       "C7    category\n",
       "C8    category\n",
       "dtype: object"
      ]
     },
     "execution_count": 63,
     "metadata": {},
     "output_type": "execute_result"
    }
   ],
   "source": [
    "actual_df.dtypes"
   ]
  },
  {
   "cell_type": "code",
   "execution_count": 64,
   "metadata": {
    "collapsed": true
   },
   "outputs": [],
   "source": [
    "actual_df['C7'] = actual_df['C7'].cat.codes"
   ]
  },
  {
   "cell_type": "code",
   "execution_count": 65,
   "metadata": {
    "collapsed": true
   },
   "outputs": [],
   "source": [
    "actual_df['C8'] = actual_df['C8'].cat.codes"
   ]
  },
  {
   "cell_type": "code",
   "execution_count": 66,
   "metadata": {
    "collapsed": true
   },
   "outputs": [],
   "source": [
    "#actual_df"
   ]
  },
  {
   "cell_type": "code",
   "execution_count": 67,
   "metadata": {
    "collapsed": true
   },
   "outputs": [],
   "source": [
    "#actual_df.C7.value_counts()"
   ]
  },
  {
   "cell_type": "code",
   "execution_count": 68,
   "metadata": {
    "collapsed": true
   },
   "outputs": [],
   "source": [
    "normalize_df = actual_df.copy()"
   ]
  },
  {
   "cell_type": "code",
   "execution_count": 69,
   "metadata": {
    "collapsed": true
   },
   "outputs": [],
   "source": [
    "normalize_df[['C3','C4','C5','C6']] = StandardScaler().fit_transform(normalize_df[['C3','C4','C5','C6']])"
   ]
  },
  {
   "cell_type": "code",
   "execution_count": 70,
   "metadata": {
    "collapsed": true
   },
   "outputs": [],
   "source": [
    "#normalize_df"
   ]
  },
  {
   "cell_type": "code",
   "execution_count": 71,
   "metadata": {
    "collapsed": true
   },
   "outputs": [],
   "source": [
    "#actual_df"
   ]
  },
  {
   "cell_type": "code",
   "execution_count": 72,
   "metadata": {
    "collapsed": true
   },
   "outputs": [],
   "source": [
    "#test = actual_df.copy(deep=False)"
   ]
  },
  {
   "cell_type": "code",
   "execution_count": 73,
   "metadata": {
    "collapsed": true
   },
   "outputs": [],
   "source": [
    "#test"
   ]
  },
  {
   "cell_type": "code",
   "execution_count": 74,
   "metadata": {
    "collapsed": true
   },
   "outputs": [],
   "source": [
    "ax1 = normalize_df.plot(kind='scatter', x='C3', y='C7', color='r')    \n",
    "ax2 = normalize_df.plot(kind='scatter', x='C4', y='C7', color='g', ax=ax1)    \n",
    "ax3 = normalize_df.plot(kind='scatter', x='C5', y='C7', color='b', ax=ax1)\n",
    "ax4 = normalize_df.plot(kind='scatter', x='C6', y='C7', color='purple', ax=ax1)\n",
    "ax5 = normalize_df.plot(kind='scatter', x='C8', y='C7', color='black', ax=ax1)"
   ]
  },
  {
   "cell_type": "code",
   "execution_count": 75,
   "metadata": {},
   "outputs": [
    {
     "data": {
      "image/png": "[encoded data removed]",
      "text/plain": [
       "<matplotlib.figure.Figure at 0x1d3e8603828>"
      ]
     },
     "metadata": {},
     "output_type": "display_data"
    }
   ],
   "source": [
    "plt.show()"
   ]
  },
  {
   "cell_type": "code",
   "execution_count": 76,
   "metadata": {},
   "outputs": [
    {
     "data": {
      "text/plain": [
       "Text(0.5,0,'C7')"
      ]
     },
     "execution_count": 76,
     "metadata": {},
     "output_type": "execute_result"
    }
   ],
   "source": [
    "fig = plt.figure(figsize=(8, 6))\n",
    "ax = fig.add_subplot(111, projection=\"3d\")\n",
    "\n",
    "xs = normalize_df['C3']\n",
    "ys = normalize_df['C4']\n",
    "zs = normalize_df['C7']\n",
    "ax.scatter(xs, ys, zs, s=50, alpha=0.6, edgecolors='w')\n",
    "\n",
    "ax.set_xlabel('C3')\n",
    "ax.set_ylabel('C4')\n",
    "ax.set_zlabel('C7')"
   ]
  },
  {
   "cell_type": "code",
   "execution_count": 77,
   "metadata": {},
   "outputs": [
    {
     "data": {
      "image/png": "[encoded data removed]",
      "text/plain": [
       "<matplotlib.figure.Figure at 0x1d3e8c3ca58>"
      ]
     },
     "metadata": {},
     "output_type": "display_data"
    }
   ],
   "source": [
    "plt.show()"
   ]
  },
  {
   "cell_type": "code",
   "execution_count": 78,
   "metadata": {},
   "outputs": [
    {
     "data": {
      "text/plain": [
       "Text(0.5,0,'C8')"
      ]
     },
     "execution_count": 78,
     "metadata": {},
     "output_type": "execute_result"
    }
   ],
   "source": [
    "fig = plt.figure(figsize=(8, 6))\n",
    "t = fig.suptitle('3D Visualize', fontsize=14)\n",
    "ax = fig.add_subplot(111, projection='3d')\n",
    "\n",
    "xs = normalize_df['C5']\n",
    "ys = normalize_df['C6']\n",
    "zs = normalize_df['C8']\n",
    "data_points = [(x, y, z) for x, y, z in zip(xs, ys, zs)]\n",
    "colors = ['red' if wt == 1 else 'yellow' for wt in list(normalize_df['C7'])]\n",
    "\n",
    "for data, color in zip(data_points, colors):\n",
    "    x, y, z = data\n",
    "    ax.scatter(x, y, z, alpha=0.4, c=color, edgecolors='none', s=30)\n",
    "\n",
    "ax.set_xlabel('C5')\n",
    "ax.set_ylabel('C6')\n",
    "ax.set_zlabel('C8')"
   ]
  },
  {
   "cell_type": "code",
   "execution_count": 79,
   "metadata": {},
   "outputs": [
    {
     "data": {
      "image/png": "[encoded data removed]",
      "text/plain": [
       "<matplotlib.figure.Figure at 0x1d3e8d347f0>"
      ]
     },
     "metadata": {},
     "output_type": "display_data"
    }
   ],
   "source": [
    "plt.show()"
   ]
  },
  {
   "cell_type": "code",
   "execution_count": 80,
   "metadata": {},
   "outputs": [
    {
     "data": {
      "text/plain": [
       "Text(0.5,0,'C8')"
      ]
     },
     "execution_count": 80,
     "metadata": {},
     "output_type": "execute_result"
    }
   ],
   "source": [
    "fig = plt.figure(figsize=(8, 6))\n",
    "t = fig.suptitle('3D Visualize', fontsize=14)\n",
    "ax = fig.add_subplot(111, projection='3d')\n",
    "\n",
    "xs = normalize_df['C3']\n",
    "ys = normalize_df['C4']\n",
    "zs = normalize_df['C8']\n",
    "data_points = [(x, y, z) for x, y, z in zip(xs, ys, zs)]\n",
    "colors = ['red' if wt == 1 else 'yellow' for wt in list(normalize_df['C7'])]\n",
    "\n",
    "for data, color in zip(data_points, colors):\n",
    "    x, y, z = data\n",
    "    ax.scatter(x, y, z, alpha=0.4, c=color, edgecolors='none', s=30)\n",
    "\n",
    "ax.set_xlabel('C3')\n",
    "ax.set_ylabel('C4')\n",
    "ax.set_zlabel('C8')"
   ]
  },
  {
   "cell_type": "code",
   "execution_count": 81,
   "metadata": {},
   "outputs": [
    {
     "data": {
      "image/png": "[encoded data removed]",
      "text/plain": [
       "<matplotlib.figure.Figure at 0x1d3ea7da438>"
      ]
     },
     "metadata": {},
     "output_type": "display_data"
    }
   ],
   "source": [
    "plt.show()"
   ]
  },
  {
   "cell_type": "code",
   "execution_count": 82,
   "metadata": {},
   "outputs": [
    {
     "data": {
      "text/plain": [
       "Text(0.5,0,'C5')"
      ]
     },
     "execution_count": 82,
     "metadata": {},
     "output_type": "execute_result"
    }
   ],
   "source": [
    "fig = plt.figure(figsize=(8, 6))\n",
    "t = fig.suptitle('6D Visualization', fontsize=14)\n",
    "ax = fig.add_subplot(111, projection='3d')\n",
    "\n",
    "xs = normalize_df['C6']\n",
    "ys = normalize_df['C3']\n",
    "zs = normalize_df['C5']\n",
    "data_points = [(x, y, z) for x, y, z in zip(xs, ys, zs)]\n",
    "\n",
    "ss = list(normalize_df['C4'])\n",
    "colors = ['red' if wt == 1 else 'yellow' for wt in list(normalize_df['C7'])]\n",
    "markers = ['o' if q == 0 else 'x'  for q in list(normalize_df['C8'])]\n",
    "\n",
    "for data, color, size, mark in zip(data_points, colors, ss, markers):\n",
    "    x, y, z = data\n",
    "    ax.scatter(x, y, z, alpha=0.4, c=color, edgecolors='none', s=30, marker=mark)\n",
    "\n",
    "ax.set_xlabel('C6')\n",
    "ax.set_ylabel('C4')\n",
    "ax.set_zlabel('C5')"
   ]
  },
  {
   "cell_type": "code",
   "execution_count": 83,
   "metadata": {},
   "outputs": [
    {
     "data": {
      "image/png": "[encoded data removed]",
      "text/plain": [
       "<matplotlib.figure.Figure at 0x1d3eae66c50>"
      ]
     },
     "metadata": {},
     "output_type": "display_data"
    }
   ],
   "source": [
    "plt.show()"
   ]
  },
  {
   "cell_type": "code",
   "execution_count": 84,
   "metadata": {},
   "outputs": [
    {
     "data": {
      "text/plain": [
       "0    580\n",
       "1     22\n",
       "Name: C7, dtype: int64"
      ]
     },
     "execution_count": 84,
     "metadata": {},
     "output_type": "execute_result"
    }
   ],
   "source": [
    "normalize_df['C7'].value_counts()"
   ]
  },
  {
   "cell_type": "code",
   "execution_count": 85,
   "metadata": {
    "collapsed": true
   },
   "outputs": [],
   "source": [
    "from sklearn.model_selection import train_test_split"
   ]
  },
  {
   "cell_type": "code",
   "execution_count": 86,
   "metadata": {},
   "outputs": [
    {
     "data": {
      "text/plain": [
       "Index(['C3', 'C4', 'C5', 'C6', 'C7', 'C8'], dtype='object')"
      ]
     },
     "execution_count": 86,
     "metadata": {},
     "output_type": "execute_result"
    }
   ],
   "source": [
    "normalize_df.columns"
   ]
  },
  {
   "cell_type": "code",
   "execution_count": 87,
   "metadata": {
    "collapsed": true
   },
   "outputs": [],
   "source": [
    "X_train, X_test, y_train, y_test = train_test_split(normalize_df[['C3','C4','C5','C6','C8']],normalize_df['C7'],test_size=0.2,random_state=5)"
   ]
  },
  {
   "cell_type": "code",
   "execution_count": 88,
   "metadata": {},
   "outputs": [
    {
     "data": {
      "text/plain": [
       "(121,)"
      ]
     },
     "execution_count": 88,
     "metadata": {},
     "output_type": "execute_result"
    }
   ],
   "source": [
    "y_test.shape"
   ]
  },
  {
   "cell_type": "code",
   "execution_count": 89,
   "metadata": {
    "collapsed": true
   },
   "outputs": [],
   "source": [
    "from sklearn.svm import LinearSVC"
   ]
  },
  {
   "cell_type": "code",
   "execution_count": 90,
   "metadata": {
    "collapsed": true
   },
   "outputs": [],
   "source": [
    "linear_svc = LinearSVC(loss = 'hinge')"
   ]
  },
  {
   "cell_type": "code",
   "execution_count": 91,
   "metadata": {},
   "outputs": [
    {
     "name": "stdout",
     "output_type": "stream",
     "text": [
      "Wall time: 7 ms\n"
     ]
    },
    {
     "data": {
      "text/plain": [
       "LinearSVC(C=1.0, class_weight=None, dual=True, fit_intercept=True,\n",
       "     intercept_scaling=1, loss='hinge', max_iter=1000, multi_class='ovr',\n",
       "     penalty='l2', random_state=None, tol=0.0001, verbose=0)"
      ]
     },
     "execution_count": 91,
     "metadata": {},
     "output_type": "execute_result"
    }
   ],
   "source": [
    "%time linear_svc.fit(X_train, y_train)"
   ]
  },
  {
   "cell_type": "code",
   "execution_count": 92,
   "metadata": {
    "collapsed": true
   },
   "outputs": [],
   "source": [
    "y_pred_linear_svc = linear_svc.predict(X_test)"
   ]
  },
  {
   "cell_type": "code",
   "execution_count": 93,
   "metadata": {
    "collapsed": true
   },
   "outputs": [],
   "source": [
    "from sklearn import metrics\n",
    "from sklearn.metrics import confusion_matrix, classification_report"
   ]
  },
  {
   "cell_type": "code",
   "execution_count": 94,
   "metadata": {},
   "outputs": [
    {
     "name": "stdout",
     "output_type": "stream",
     "text": [
      "0.95041322314\n",
      "             precision    recall  f1-score   support\n",
      "\n",
      "          0       0.95      1.00      0.97       115\n",
      "          1       0.00      0.00      0.00         6\n",
      "\n",
      "avg / total       0.90      0.95      0.93       121\n",
      "\n"
     ]
    },
    {
     "name": "stderr",
     "output_type": "stream",
     "text": [
      "C:\\ProgramData\\Anaconda3\\lib\\site-packages\\sklearn\\metrics\\classification.py:1135: UndefinedMetricWarning: Precision and F-score are ill-defined and being set to 0.0 in labels with no predicted samples.\n",
      "  'precision', 'predicted', average, warn_for)\n"
     ]
    }
   ],
   "source": [
    "linear_svc_confusion_matrix = metrics.confusion_matrix(y_test, y_pred_linear_svc)\n",
    "\n",
    "#metrics.accuracy_score(y_test, y_pred_class)\n",
    "\n",
    "print(metrics.accuracy_score(y_test, y_pred_linear_svc))\n",
    "\n",
    "print(classification_report(y_test, y_pred_linear_svc))"
   ]
  },
  {
   "cell_type": "code",
   "execution_count": 95,
   "metadata": {},
   "outputs": [
    {
     "name": "stdout",
     "output_type": "stream",
     "text": [
      "0.966735966736\n"
     ]
    }
   ],
   "source": [
    "print(linear_svc.score(X_train, y_train))"
   ]
  },
  {
   "cell_type": "code",
   "execution_count": 96,
   "metadata": {
    "collapsed": true
   },
   "outputs": [],
   "source": [
    "from sklearn.linear_model import SGDClassifier"
   ]
  },
  {
   "cell_type": "code",
   "execution_count": 97,
   "metadata": {
    "collapsed": true
   },
   "outputs": [],
   "source": [
    "sgd_classifier = SGDClassifier(loss= 'modified_huber', random_state = 3)"
   ]
  },
  {
   "cell_type": "code",
   "execution_count": 98,
   "metadata": {},
   "outputs": [
    {
     "name": "stdout",
     "output_type": "stream",
     "text": [
      "Wall time: 6.06 ms\n"
     ]
    },
    {
     "name": "stderr",
     "output_type": "stream",
     "text": [
      "C:\\ProgramData\\Anaconda3\\lib\\site-packages\\sklearn\\linear_model\\stochastic_gradient.py:128: FutureWarning: max_iter and tol parameters have been added in <class 'sklearn.linear_model.stochastic_gradient.SGDClassifier'> in 0.19. If both are left unset, they default to max_iter=5 and tol=None. If tol is not None, max_iter defaults to max_iter=1000. From 0.21, default max_iter will be 1000, and default tol will be 1e-3.\n",
      "  \"and default tol will be 1e-3.\" % type(self), FutureWarning)\n"
     ]
    },
    {
     "data": {
      "text/plain": [
       "SGDClassifier(alpha=0.0001, average=False, class_weight=None, epsilon=0.1,\n",
       "       eta0=0.0, fit_intercept=True, l1_ratio=0.15,\n",
       "       learning_rate='optimal', loss='modified_huber', max_iter=None,\n",
       "       n_iter=None, n_jobs=1, penalty='l2', power_t=0.5, random_state=3,\n",
       "       shuffle=True, tol=None, verbose=0, warm_start=False)"
      ]
     },
     "execution_count": 98,
     "metadata": {},
     "output_type": "execute_result"
    }
   ],
   "source": [
    "%time sgd_classifier.fit(X_train, y_train)"
   ]
  },
  {
   "cell_type": "code",
   "execution_count": 99,
   "metadata": {},
   "outputs": [
    {
     "data": {
      "text/plain": [
       "0.96465696465696471"
      ]
     },
     "execution_count": 99,
     "metadata": {},
     "output_type": "execute_result"
    }
   ],
   "source": [
    "sgd_classifier.score(X_train,y_train)"
   ]
  },
  {
   "cell_type": "code",
   "execution_count": 100,
   "metadata": {
    "collapsed": true
   },
   "outputs": [],
   "source": [
    "y_pred_sgd = sgd_classifier.predict(X_test)"
   ]
  },
  {
   "cell_type": "code",
   "execution_count": 101,
   "metadata": {},
   "outputs": [
    {
     "name": "stdout",
     "output_type": "stream",
     "text": [
      "0.95867768595\n",
      "             precision    recall  f1-score   support\n",
      "\n",
      "          0       0.98      0.97      0.98       115\n",
      "          1       0.57      0.67      0.62         6\n",
      "\n",
      "avg / total       0.96      0.96      0.96       121\n",
      "\n"
     ]
    }
   ],
   "source": [
    "confusion_matrix_sgd = metrics.confusion_matrix(y_test, y_pred_sgd)\n",
    "\n",
    "#metrics.accuracy_score(y_test, y_pred_class)\n",
    "\n",
    "print(metrics.accuracy_score(y_test, y_pred_sgd))\n",
    "\n",
    "print(classification_report(y_test, y_pred_sgd))"
   ]
  },
  {
   "cell_type": "code",
   "execution_count": 102,
   "metadata": {
    "collapsed": true
   },
   "outputs": [],
   "source": [
    "cm_df_sgd = pd.DataFrame(confusion_matrix_sgd,\n",
    "                     index = ['0','1'], \n",
    "                     columns = ['0','1'])"
   ]
  },
  {
   "cell_type": "code",
   "execution_count": 103,
   "metadata": {},
   "outputs": [
    {
     "data": {
      "image/png": "[encoded data removed]",
      "text/plain": [
       "<matplotlib.figure.Figure at 0x1d3eb4dbfd0>"
      ]
     },
     "metadata": {},
     "output_type": "display_data"
    }
   ],
   "source": [
    "plt.figure(figsize=(10,10))\n",
    "sns.heatmap(cm_df_sgd, annot=True, fmt='d')\n",
    "plt.ylabel('Actual')\n",
    "plt.xlabel('Predicted')\n",
    "plt.show()"
   ]
  },
  {
   "cell_type": "code",
   "execution_count": 104,
   "metadata": {
    "collapsed": true
   },
   "outputs": [],
   "source": [
    "cm_df_linear_svc = pd.DataFrame(linear_svc_confusion_matrix,\n",
    "                     index = ['0','1'], \n",
    "                     columns = ['0','1'])\n",
    "\n"
   ]
  },
  {
   "cell_type": "code",
   "execution_count": 105,
   "metadata": {},
   "outputs": [
    {
     "data": {
      "image/png": "[encoded data removed]",
      "text/plain": [
       "<matplotlib.figure.Figure at 0x1d3eb6956d8>"
      ]
     },
     "metadata": {},
     "output_type": "display_data"
    }
   ],
   "source": [
    "plt.figure(figsize=(10,10))\n",
    "sns.heatmap(cm_df_linear_svc, annot=True, fmt='d')\n",
    "plt.ylabel('Actual')\n",
    "plt.xlabel('Predicted')\n",
    "plt.show()"
   ]
  },
  {
   "cell_type": "code",
   "execution_count": 106,
   "metadata": {
    "collapsed": true
   },
   "outputs": [],
   "source": [
    "from sklearn.tree import DecisionTreeClassifier"
   ]
  },
  {
   "cell_type": "code",
   "execution_count": 107,
   "metadata": {
    "collapsed": true
   },
   "outputs": [],
   "source": [
    "dt = DecisionTreeClassifier()"
   ]
  },
  {
   "cell_type": "code",
   "execution_count": 108,
   "metadata": {},
   "outputs": [
    {
     "name": "stdout",
     "output_type": "stream",
     "text": [
      "Wall time: 3 ms\n"
     ]
    },
    {
     "data": {
      "text/plain": [
       "DecisionTreeClassifier(class_weight=None, criterion='gini', max_depth=None,\n",
       "            max_features=None, max_leaf_nodes=None,\n",
       "            min_impurity_decrease=0.0, min_impurity_split=None,\n",
       "            min_samples_leaf=1, min_samples_split=2,\n",
       "            min_weight_fraction_leaf=0.0, presort=False, random_state=None,\n",
       "            splitter='best')"
      ]
     },
     "execution_count": 108,
     "metadata": {},
     "output_type": "execute_result"
    }
   ],
   "source": [
    "%time dt.fit(X_train, y_train)"
   ]
  },
  {
   "cell_type": "code",
   "execution_count": 109,
   "metadata": {
    "collapsed": true
   },
   "outputs": [],
   "source": [
    "y_pred_dt = dt.predict(X_test)"
   ]
  },
  {
   "cell_type": "code",
   "execution_count": 110,
   "metadata": {},
   "outputs": [
    {
     "data": {
      "text/plain": [
       "0.99584199584199584"
      ]
     },
     "execution_count": 110,
     "metadata": {},
     "output_type": "execute_result"
    }
   ],
   "source": [
    "dt.score(X_train,y_train)"
   ]
  },
  {
   "cell_type": "code",
   "execution_count": 111,
   "metadata": {},
   "outputs": [
    {
     "name": "stdout",
     "output_type": "stream",
     "text": [
      "0.96694214876\n",
      "             precision    recall  f1-score   support\n",
      "\n",
      "          0       0.97      0.99      0.98       115\n",
      "          1       0.75      0.50      0.60         6\n",
      "\n",
      "avg / total       0.96      0.97      0.96       121\n",
      "\n"
     ]
    }
   ],
   "source": [
    "confusion_matrix_dt = metrics.confusion_matrix(y_test, y_pred_dt)\n",
    "\n",
    "#metrics.accuracy_score(y_test, y_pred_class)\n",
    "\n",
    "print(metrics.accuracy_score(y_test, y_pred_dt))\n",
    "\n",
    "print(classification_report(y_test, y_pred_dt))"
   ]
  },
  {
   "cell_type": "code",
   "execution_count": 112,
   "metadata": {
    "collapsed": true
   },
   "outputs": [],
   "source": [
    "cm_df_dt = pd.DataFrame(confusion_matrix_dt,\n",
    "                     index = ['0','1'], \n",
    "                     columns = ['0','1'])"
   ]
  },
  {
   "cell_type": "code",
   "execution_count": 113,
   "metadata": {},
   "outputs": [
    {
     "data": {
      "image/png": "[encoded data removed]",
      "text/plain": [
       "<matplotlib.figure.Figure at 0x1d3ebb22358>"
      ]
     },
     "metadata": {},
     "output_type": "display_data"
    }
   ],
   "source": [
    "plt.figure(figsize=(10,10))\n",
    "sns.heatmap(cm_df_dt, annot=True, fmt='d')\n",
    "plt.ylabel('Actual')\n",
    "plt.xlabel('Predicted')\n",
    "plt.show()"
   ]
  },
  {
   "cell_type": "code",
   "execution_count": 268,
   "metadata": {
    "collapsed": true
   },
   "outputs": [],
   "source": [
    "#y_test"
   ]
  },
  {
   "cell_type": "code",
   "execution_count": 114,
   "metadata": {
    "collapsed": true
   },
   "outputs": [],
   "source": [
    "actual_df_new = df[(df['C7']=='Healthy') |  (df['C7']=='Unhealthy')]"
   ]
  },
  {
   "cell_type": "code",
   "execution_count": 115,
   "metadata": {
    "collapsed": true
   },
   "outputs": [],
   "source": [
    "actual_df_new = actual_df_new[['C3','C4','C5','C6','C7','C8']]"
   ]
  },
  {
   "cell_type": "code",
   "execution_count": 116,
   "metadata": {
    "collapsed": true
   },
   "outputs": [],
   "source": [
    "ss = StandardScaler()"
   ]
  },
  {
   "cell_type": "code",
   "execution_count": 117,
   "metadata": {
    "collapsed": true
   },
   "outputs": [],
   "source": [
    "mm = MinMaxScaler()"
   ]
  },
  {
   "cell_type": "code",
   "execution_count": 118,
   "metadata": {
    "collapsed": true
   },
   "outputs": [],
   "source": [
    "actual_df_new[['C3','C4','C5','C6']] = ss.fit_transform(actual_df_new[['C3','C4','C5','C6']])"
   ]
  },
  {
   "cell_type": "code",
   "execution_count": 284,
   "metadata": {
    "collapsed": true
   },
   "outputs": [],
   "source": [
    "#actual_df_new[['C3','C4','C5','C6']] = ss.transform(actual_df_new[['C3','C4','C5','C6']])"
   ]
  },
  {
   "cell_type": "code",
   "execution_count": 119,
   "metadata": {},
   "outputs": [
    {
     "data": {
      "text/html": [
       "<div>\n",
       "<style>\n",
       "    .dataframe thead tr:only-child th {\n",
       "        text-align: right;\n",
       "    }\n",
       "\n",
       "    .dataframe thead th {\n",
       "        text-align: left;\n",
       "    }\n",
       "\n",
       "    .dataframe tbody tr th {\n",
       "        vertical-align: top;\n",
       "    }\n",
       "</style>\n",
       "<table border=\"1\" class=\"dataframe\">\n",
       "  <thead>\n",
       "    <tr style=\"text-align: right;\">\n",
       "      <th></th>\n",
       "      <th>C3</th>\n",
       "      <th>C4</th>\n",
       "      <th>C5</th>\n",
       "      <th>C6</th>\n",
       "      <th>C7</th>\n",
       "      <th>C8</th>\n",
       "    </tr>\n",
       "  </thead>\n",
       "  <tbody>\n",
       "    <tr>\n",
       "      <th>0</th>\n",
       "      <td>-0.549183</td>\n",
       "      <td>0.650058</td>\n",
       "      <td>0.657402</td>\n",
       "      <td>0.430866</td>\n",
       "      <td>Healthy</td>\n",
       "      <td>Live</td>\n",
       "    </tr>\n",
       "    <tr>\n",
       "      <th>1</th>\n",
       "      <td>0.435362</td>\n",
       "      <td>1.192825</td>\n",
       "      <td>0.833922</td>\n",
       "      <td>1.161516</td>\n",
       "      <td>Healthy</td>\n",
       "      <td>Closed</td>\n",
       "    </tr>\n",
       "    <tr>\n",
       "      <th>4</th>\n",
       "      <td>2.052184</td>\n",
       "      <td>1.735592</td>\n",
       "      <td>3.128672</td>\n",
       "      <td>4.814771</td>\n",
       "      <td>Healthy</td>\n",
       "      <td>Live</td>\n",
       "    </tr>\n",
       "    <tr>\n",
       "      <th>5</th>\n",
       "      <td>-0.910484</td>\n",
       "      <td>-1.521010</td>\n",
       "      <td>-0.931271</td>\n",
       "      <td>-1.030436</td>\n",
       "      <td>Healthy</td>\n",
       "      <td>Closed</td>\n",
       "    </tr>\n",
       "    <tr>\n",
       "      <th>6</th>\n",
       "      <td>-0.404663</td>\n",
       "      <td>0.650058</td>\n",
       "      <td>-0.048675</td>\n",
       "      <td>-0.299785</td>\n",
       "      <td>Healthy</td>\n",
       "      <td>Closed</td>\n",
       "    </tr>\n",
       "    <tr>\n",
       "      <th>7</th>\n",
       "      <td>-0.133687</td>\n",
       "      <td>1.192825</td>\n",
       "      <td>0.833922</td>\n",
       "      <td>0.430866</td>\n",
       "      <td>Healthy</td>\n",
       "      <td>Closed</td>\n",
       "    </tr>\n",
       "    <tr>\n",
       "      <th>8</th>\n",
       "      <td>-0.377566</td>\n",
       "      <td>1.192825</td>\n",
       "      <td>0.657402</td>\n",
       "      <td>1.161516</td>\n",
       "      <td>Healthy</td>\n",
       "      <td>Closed</td>\n",
       "    </tr>\n",
       "    <tr>\n",
       "      <th>9</th>\n",
       "      <td>0.435362</td>\n",
       "      <td>1.192825</td>\n",
       "      <td>1.539999</td>\n",
       "      <td>2.622818</td>\n",
       "      <td>Healthy</td>\n",
       "      <td>Live</td>\n",
       "    </tr>\n",
       "    <tr>\n",
       "      <th>10</th>\n",
       "      <td>0.435362</td>\n",
       "      <td>1.192825</td>\n",
       "      <td>0.833922</td>\n",
       "      <td>1.161516</td>\n",
       "      <td>Healthy</td>\n",
       "      <td>Closed</td>\n",
       "    </tr>\n",
       "    <tr>\n",
       "      <th>11</th>\n",
       "      <td>0.606980</td>\n",
       "      <td>0.650058</td>\n",
       "      <td>0.304364</td>\n",
       "      <td>-0.299785</td>\n",
       "      <td>Healthy</td>\n",
       "      <td>Closed</td>\n",
       "    </tr>\n",
       "  </tbody>\n",
       "</table>\n",
       "</div>"
      ],
      "text/plain": [
       "          C3        C4        C5        C6       C7      C8\n",
       "0  -0.549183  0.650058  0.657402  0.430866  Healthy    Live\n",
       "1   0.435362  1.192825  0.833922  1.161516  Healthy  Closed\n",
       "4   2.052184  1.735592  3.128672  4.814771  Healthy    Live\n",
       "5  -0.910484 -1.521010 -0.931271 -1.030436  Healthy  Closed\n",
       "6  -0.404663  0.650058 -0.048675 -0.299785  Healthy  Closed\n",
       "7  -0.133687  1.192825  0.833922  0.430866  Healthy  Closed\n",
       "8  -0.377566  1.192825  0.657402  1.161516  Healthy  Closed\n",
       "9   0.435362  1.192825  1.539999  2.622818  Healthy    Live\n",
       "10  0.435362  1.192825  0.833922  1.161516  Healthy  Closed\n",
       "11  0.606980  0.650058  0.304364 -0.299785  Healthy  Closed"
      ]
     },
     "execution_count": 119,
     "metadata": {},
     "output_type": "execute_result"
    }
   ],
   "source": [
    "actual_df_new[0:10]"
   ]
  },
  {
   "cell_type": "code",
   "execution_count": 120,
   "metadata": {
    "collapsed": true
   },
   "outputs": [],
   "source": [
    "actual_df_new['C8'] = actual_df_new['C8'].astype('category')"
   ]
  },
  {
   "cell_type": "code",
   "execution_count": 121,
   "metadata": {
    "collapsed": true
   },
   "outputs": [],
   "source": [
    "actual_df_new['C8'] = actual_df_new['C8'].cat.codes"
   ]
  },
  {
   "cell_type": "code",
   "execution_count": 122,
   "metadata": {},
   "outputs": [
    {
     "data": {
      "text/html": [
       "<div>\n",
       "<style>\n",
       "    .dataframe thead tr:only-child th {\n",
       "        text-align: right;\n",
       "    }\n",
       "\n",
       "    .dataframe thead th {\n",
       "        text-align: left;\n",
       "    }\n",
       "\n",
       "    .dataframe tbody tr th {\n",
       "        vertical-align: top;\n",
       "    }\n",
       "</style>\n",
       "<table border=\"1\" class=\"dataframe\">\n",
       "  <thead>\n",
       "    <tr style=\"text-align: right;\">\n",
       "      <th></th>\n",
       "      <th>C3</th>\n",
       "      <th>C4</th>\n",
       "      <th>C5</th>\n",
       "      <th>C6</th>\n",
       "      <th>C7</th>\n",
       "      <th>C8</th>\n",
       "    </tr>\n",
       "  </thead>\n",
       "  <tbody>\n",
       "    <tr>\n",
       "      <th>0</th>\n",
       "      <td>-0.549183</td>\n",
       "      <td>0.650058</td>\n",
       "      <td>0.657402</td>\n",
       "      <td>0.430866</td>\n",
       "      <td>Healthy</td>\n",
       "      <td>1</td>\n",
       "    </tr>\n",
       "    <tr>\n",
       "      <th>1</th>\n",
       "      <td>0.435362</td>\n",
       "      <td>1.192825</td>\n",
       "      <td>0.833922</td>\n",
       "      <td>1.161516</td>\n",
       "      <td>Healthy</td>\n",
       "      <td>0</td>\n",
       "    </tr>\n",
       "    <tr>\n",
       "      <th>4</th>\n",
       "      <td>2.052184</td>\n",
       "      <td>1.735592</td>\n",
       "      <td>3.128672</td>\n",
       "      <td>4.814771</td>\n",
       "      <td>Healthy</td>\n",
       "      <td>1</td>\n",
       "    </tr>\n",
       "    <tr>\n",
       "      <th>5</th>\n",
       "      <td>-0.910484</td>\n",
       "      <td>-1.521010</td>\n",
       "      <td>-0.931271</td>\n",
       "      <td>-1.030436</td>\n",
       "      <td>Healthy</td>\n",
       "      <td>0</td>\n",
       "    </tr>\n",
       "    <tr>\n",
       "      <th>6</th>\n",
       "      <td>-0.404663</td>\n",
       "      <td>0.650058</td>\n",
       "      <td>-0.048675</td>\n",
       "      <td>-0.299785</td>\n",
       "      <td>Healthy</td>\n",
       "      <td>0</td>\n",
       "    </tr>\n",
       "    <tr>\n",
       "      <th>7</th>\n",
       "      <td>-0.133687</td>\n",
       "      <td>1.192825</td>\n",
       "      <td>0.833922</td>\n",
       "      <td>0.430866</td>\n",
       "      <td>Healthy</td>\n",
       "      <td>0</td>\n",
       "    </tr>\n",
       "    <tr>\n",
       "      <th>8</th>\n",
       "      <td>-0.377566</td>\n",
       "      <td>1.192825</td>\n",
       "      <td>0.657402</td>\n",
       "      <td>1.161516</td>\n",
       "      <td>Healthy</td>\n",
       "      <td>0</td>\n",
       "    </tr>\n",
       "    <tr>\n",
       "      <th>9</th>\n",
       "      <td>0.435362</td>\n",
       "      <td>1.192825</td>\n",
       "      <td>1.539999</td>\n",
       "      <td>2.622818</td>\n",
       "      <td>Healthy</td>\n",
       "      <td>1</td>\n",
       "    </tr>\n",
       "    <tr>\n",
       "      <th>10</th>\n",
       "      <td>0.435362</td>\n",
       "      <td>1.192825</td>\n",
       "      <td>0.833922</td>\n",
       "      <td>1.161516</td>\n",
       "      <td>Healthy</td>\n",
       "      <td>0</td>\n",
       "    </tr>\n",
       "    <tr>\n",
       "      <th>11</th>\n",
       "      <td>0.606980</td>\n",
       "      <td>0.650058</td>\n",
       "      <td>0.304364</td>\n",
       "      <td>-0.299785</td>\n",
       "      <td>Healthy</td>\n",
       "      <td>0</td>\n",
       "    </tr>\n",
       "  </tbody>\n",
       "</table>\n",
       "</div>"
      ],
      "text/plain": [
       "          C3        C4        C5        C6       C7  C8\n",
       "0  -0.549183  0.650058  0.657402  0.430866  Healthy   1\n",
       "1   0.435362  1.192825  0.833922  1.161516  Healthy   0\n",
       "4   2.052184  1.735592  3.128672  4.814771  Healthy   1\n",
       "5  -0.910484 -1.521010 -0.931271 -1.030436  Healthy   0\n",
       "6  -0.404663  0.650058 -0.048675 -0.299785  Healthy   0\n",
       "7  -0.133687  1.192825  0.833922  0.430866  Healthy   0\n",
       "8  -0.377566  1.192825  0.657402  1.161516  Healthy   0\n",
       "9   0.435362  1.192825  1.539999  2.622818  Healthy   1\n",
       "10  0.435362  1.192825  0.833922  1.161516  Healthy   0\n",
       "11  0.606980  0.650058  0.304364 -0.299785  Healthy   0"
      ]
     },
     "execution_count": 122,
     "metadata": {},
     "output_type": "execute_result"
    }
   ],
   "source": [
    "actual_df_new[0:10]"
   ]
  },
  {
   "cell_type": "code",
   "execution_count": 123,
   "metadata": {
    "collapsed": true
   },
   "outputs": [],
   "source": [
    "#actual_df_new.C8.value_counts()"
   ]
  },
  {
   "cell_type": "code",
   "execution_count": 124,
   "metadata": {
    "collapsed": true
   },
   "outputs": [],
   "source": [
    "X_train, X_test, y_train, y_test = train_test_split(actual_df_new[['C3','C4','C5','C6','C8']],actual_df_new['C7'],test_size=0.2,random_state=42)"
   ]
  },
  {
   "cell_type": "code",
   "execution_count": 125,
   "metadata": {},
   "outputs": [],
   "source": [
    "sgd = SGDClassifier(loss= 'squared_hinge', random_state = 5)"
   ]
  },
  {
   "cell_type": "code",
   "execution_count": 126,
   "metadata": {},
   "outputs": [
    {
     "name": "stderr",
     "output_type": "stream",
     "text": [
      "C:\\ProgramData\\Anaconda3\\lib\\site-packages\\sklearn\\linear_model\\stochastic_gradient.py:128: FutureWarning: max_iter and tol parameters have been added in <class 'sklearn.linear_model.stochastic_gradient.SGDClassifier'> in 0.19. If both are left unset, they default to max_iter=5 and tol=None. If tol is not None, max_iter defaults to max_iter=1000. From 0.21, default max_iter will be 1000, and default tol will be 1e-3.\n",
      "  \"and default tol will be 1e-3.\" % type(self), FutureWarning)\n"
     ]
    },
    {
     "data": {
      "text/plain": [
       "SGDClassifier(alpha=0.0001, average=False, class_weight=None, epsilon=0.1,\n",
       "       eta0=0.0, fit_intercept=True, l1_ratio=0.15,\n",
       "       learning_rate='optimal', loss='squared_hinge', max_iter=None,\n",
       "       n_iter=None, n_jobs=1, penalty='l2', power_t=0.5, random_state=5,\n",
       "       shuffle=True, tol=None, verbose=0, warm_start=False)"
      ]
     },
     "execution_count": 126,
     "metadata": {},
     "output_type": "execute_result"
    }
   ],
   "source": [
    "sgd.fit(X_train,y_train)"
   ]
  },
  {
   "cell_type": "code",
   "execution_count": 127,
   "metadata": {},
   "outputs": [
    {
     "data": {
      "text/plain": [
       "0.96465696465696471"
      ]
     },
     "execution_count": 127,
     "metadata": {},
     "output_type": "execute_result"
    }
   ],
   "source": [
    "sgd.score(X_train,y_train)"
   ]
  },
  {
   "cell_type": "code",
   "execution_count": 128,
   "metadata": {
    "collapsed": true
   },
   "outputs": [],
   "source": [
    "y_pred_sgd = sgd.predict(X_test)\n",
    "\n",
    "cm_sgd = metrics.confusion_matrix(y_test, y_pred_sgd)\n",
    "\n",
    "#metrics.accuracy_score(y_test, y_pred_class)"
   ]
  },
  {
   "cell_type": "code",
   "execution_count": 129,
   "metadata": {},
   "outputs": [
    {
     "name": "stdout",
     "output_type": "stream",
     "text": [
      "0.98347107438\n",
      "             precision    recall  f1-score   support\n",
      "\n",
      "    Healthy       0.98      1.00      0.99       118\n",
      "  Unhealthy       1.00      0.33      0.50         3\n",
      "\n",
      "avg / total       0.98      0.98      0.98       121\n",
      "\n"
     ]
    }
   ],
   "source": [
    "print(metrics.accuracy_score(y_test, y_pred_sgd))\n",
    "\n",
    "print(classification_report(y_test, y_pred_sgd))"
   ]
  },
  {
   "cell_type": "code",
   "execution_count": 130,
   "metadata": {},
   "outputs": [
    {
     "data": {
      "image/png": "[encoded data removed]",
      "text/plain": [
       "<matplotlib.figure.Figure at 0x1d3ebb284a8>"
      ]
     },
     "metadata": {},
     "output_type": "display_data"
    }
   ],
   "source": [
    "cm_df_sgd = pd.DataFrame(cm_sgd,\n",
    "                     index = ['Healthy','Unhealthy'], \n",
    "                     columns = ['Healthy','Unhealthy'])\n",
    "\n",
    "plt.figure(figsize=(10,10))\n",
    "sns.heatmap(cm_df_sgd, annot=True, fmt='d')\n",
    "plt.ylabel('Actual')\n",
    "plt.xlabel('Predicted')\n",
    "plt.show()"
   ]
  },
  {
   "cell_type": "code",
   "execution_count": 310,
   "metadata": {
    "collapsed": true
   },
   "outputs": [],
   "source": [
    "#sgd.classes_"
   ]
  },
  {
   "cell_type": "code",
   "execution_count": 131,
   "metadata": {},
   "outputs": [
    {
     "data": {
      "text/plain": [
       "3"
      ]
     },
     "execution_count": 131,
     "metadata": {},
     "output_type": "execute_result"
    }
   ],
   "source": [
    "sum(y_test=='Unhealthy')"
   ]
  },
  {
   "cell_type": "code",
   "execution_count": 132,
   "metadata": {
    "collapsed": true
   },
   "outputs": [],
   "source": [
    "import xgboost as xgb"
   ]
  },
  {
   "cell_type": "code",
   "execution_count": 422,
   "metadata": {
    "collapsed": true
   },
   "outputs": [],
   "source": [
    "#xgb_class = xgb.XGBClassifier(objective='binary:logistic',learning_rate = 0.01,n_estimators=10, seed=123)"
   ]
  },
  {
   "cell_type": "code",
   "execution_count": 133,
   "metadata": {
    "collapsed": true
   },
   "outputs": [],
   "source": [
    "from sklearn.linear_model import LogisticRegression"
   ]
  },
  {
   "cell_type": "code",
   "execution_count": 134,
   "metadata": {
    "collapsed": true
   },
   "outputs": [],
   "source": [
    "lr = LogisticRegression(solver='saga')"
   ]
  },
  {
   "cell_type": "code",
   "execution_count": 135,
   "metadata": {},
   "outputs": [
    {
     "name": "stdout",
     "output_type": "stream",
     "text": [
      "Wall time: 32.7 ms\n"
     ]
    },
    {
     "data": {
      "text/plain": [
       "LogisticRegression(C=1.0, class_weight=None, dual=False, fit_intercept=True,\n",
       "          intercept_scaling=1, max_iter=100, multi_class='ovr', n_jobs=1,\n",
       "          penalty='l2', random_state=None, solver='saga', tol=0.0001,\n",
       "          verbose=0, warm_start=False)"
      ]
     },
     "execution_count": 135,
     "metadata": {},
     "output_type": "execute_result"
    }
   ],
   "source": [
    "%time lr.fit(X_train,y_train)"
   ]
  },
  {
   "cell_type": "code",
   "execution_count": 136,
   "metadata": {
    "collapsed": true
   },
   "outputs": [],
   "source": [
    "y_pred_xgb = lr.predict(X_test)"
   ]
  },
  {
   "cell_type": "code",
   "execution_count": 137,
   "metadata": {},
   "outputs": [
    {
     "data": {
      "text/plain": [
       "0.97520661157024791"
      ]
     },
     "execution_count": 137,
     "metadata": {},
     "output_type": "execute_result"
    }
   ],
   "source": [
    "lr.score(X_test,y_test)"
   ]
  },
  {
   "cell_type": "code",
   "execution_count": 138,
   "metadata": {},
   "outputs": [
    {
     "name": "stdout",
     "output_type": "stream",
     "text": [
      "0.97520661157\n",
      "             precision    recall  f1-score   support\n",
      "\n",
      "    Healthy       0.98      1.00      0.99       118\n",
      "  Unhealthy       0.00      0.00      0.00         3\n",
      "\n",
      "avg / total       0.95      0.98      0.96       121\n",
      "\n"
     ]
    },
    {
     "name": "stderr",
     "output_type": "stream",
     "text": [
      "C:\\ProgramData\\Anaconda3\\lib\\site-packages\\sklearn\\metrics\\classification.py:1135: UndefinedMetricWarning: Precision and F-score are ill-defined and being set to 0.0 in labels with no predicted samples.\n",
      "  'precision', 'predicted', average, warn_for)\n"
     ]
    }
   ],
   "source": [
    "cm_xgb = metrics.confusion_matrix(y_test, y_pred_xgb)\n",
    "\n",
    "#metrics.accuracy_score(y_test, y_pred_class)\n",
    "\n",
    "print(metrics.accuracy_score(y_test, y_pred_xgb))\n",
    "\n",
    "print(classification_report(y_test, y_pred_xgb))"
   ]
  },
  {
   "cell_type": "code",
   "execution_count": 139,
   "metadata": {
    "collapsed": true
   },
   "outputs": [],
   "source": [
    "test_df =  pd.read_csv('data_sematics_test.csv')"
   ]
  },
  {
   "cell_type": "code",
   "execution_count": 140,
   "metadata": {},
   "outputs": [
    {
     "data": {
      "text/plain": [
       "serial_no     0\n",
       "C1            0\n",
       "C2            0\n",
       "C3            0\n",
       "C4            0\n",
       "C5            7\n",
       "C6            7\n",
       "C8           53\n",
       "dtype: int64"
      ]
     },
     "execution_count": 140,
     "metadata": {},
     "output_type": "execute_result"
    }
   ],
   "source": [
    "test_df.isnull().sum()"
   ]
  },
  {
   "cell_type": "code",
   "execution_count": 141,
   "metadata": {},
   "outputs": [
    {
     "data": {
      "text/plain": [
       "26100    34\n",
       "27900    20\n",
       "25200    20\n",
       "19800    18\n",
       "15200    12\n",
       "21600    11\n",
       "16800    11\n",
       "17100    11\n",
       "29000     9\n",
       "31500     9\n",
       "34200     8\n",
       "17600     8\n",
       "18900     8\n",
       "0         7\n",
       "13200     6\n",
       "Name: C3, dtype: int64"
      ]
     },
     "execution_count": 141,
     "metadata": {},
     "output_type": "execute_result"
    }
   ],
   "source": [
    "test_df.C3.value_counts()[0:15]"
   ]
  },
  {
   "cell_type": "code",
   "execution_count": 142,
   "metadata": {},
   "outputs": [
    {
     "data": {
      "text/plain": [
       "<matplotlib.axes._subplots.AxesSubplot at 0x1d3eb688e48>"
      ]
     },
     "execution_count": 142,
     "metadata": {},
     "output_type": "execute_result"
    }
   ],
   "source": [
    "test_df['C8'].value_counts(dropna=False).plot(kind='barh')"
   ]
  },
  {
   "cell_type": "code",
   "execution_count": 143,
   "metadata": {},
   "outputs": [
    {
     "data": {
      "image/png": "[encoded data removed]",
      "text/plain": [
       "<matplotlib.figure.Figure at 0x1d3eb688f28>"
      ]
     },
     "metadata": {},
     "output_type": "display_data"
    }
   ],
   "source": [
    "plt.show()"
   ]
  },
  {
   "cell_type": "code",
   "execution_count": 144,
   "metadata": {
    "collapsed": true
   },
   "outputs": [],
   "source": [
    "separate_df = test_df[test_df['C8'].isnull()]"
   ]
  },
  {
   "cell_type": "code",
   "execution_count": 145,
   "metadata": {},
   "outputs": [
    {
     "data": {
      "text/plain": [
       "(53, 8)"
      ]
     },
     "execution_count": 145,
     "metadata": {},
     "output_type": "execute_result"
    }
   ],
   "source": [
    "separate_df.shape"
   ]
  },
  {
   "cell_type": "code",
   "execution_count": 146,
   "metadata": {
    "collapsed": true
   },
   "outputs": [],
   "source": [
    "predict_df = test_df[test_df['C8'].notnull()]"
   ]
  },
  {
   "cell_type": "code",
   "execution_count": 147,
   "metadata": {},
   "outputs": [
    {
     "data": {
      "text/plain": [
       "(248, 8)"
      ]
     },
     "execution_count": 147,
     "metadata": {},
     "output_type": "execute_result"
    }
   ],
   "source": [
    "predict_df.shape"
   ]
  },
  {
   "cell_type": "code",
   "execution_count": 148,
   "metadata": {
    "collapsed": true
   },
   "outputs": [],
   "source": [
    "ss_scaler = StandardScaler()"
   ]
  },
  {
   "cell_type": "code",
   "execution_count": 149,
   "metadata": {
    "collapsed": true
   },
   "outputs": [],
   "source": [
    "mm_scaler = MinMaxScaler()"
   ]
  },
  {
   "cell_type": "code",
   "execution_count": 150,
   "metadata": {},
   "outputs": [
    {
     "name": "stderr",
     "output_type": "stream",
     "text": [
      "C:\\ProgramData\\Anaconda3\\lib\\site-packages\\ipykernel_launcher.py:1: SettingWithCopyWarning: \n",
      "A value is trying to be set on a copy of a slice from a DataFrame.\n",
      "Try using .loc[row_indexer,col_indexer] = value instead\n",
      "\n",
      "See the caveats in the documentation: http://pandas.pydata.org/pandas-docs/stable/indexing.html#indexing-view-versus-copy\n",
      "  \"\"\"Entry point for launching an IPython kernel.\n",
      "C:\\ProgramData\\Anaconda3\\lib\\site-packages\\pandas\\core\\indexing.py:517: SettingWithCopyWarning: \n",
      "A value is trying to be set on a copy of a slice from a DataFrame.\n",
      "Try using .loc[row_indexer,col_indexer] = value instead\n",
      "\n",
      "See the caveats in the documentation: http://pandas.pydata.org/pandas-docs/stable/indexing.html#indexing-view-versus-copy\n",
      "  self.obj[item] = s\n"
     ]
    }
   ],
   "source": [
    "predict_df[['C3','C4','C5','C6']] = ss_scaler.fit_transform(predict_df[['C3','C4','C5','C6']])"
   ]
  },
  {
   "cell_type": "code",
   "execution_count": 151,
   "metadata": {},
   "outputs": [
    {
     "name": "stderr",
     "output_type": "stream",
     "text": [
      "C:\\ProgramData\\Anaconda3\\lib\\site-packages\\ipykernel_launcher.py:1: SettingWithCopyWarning: \n",
      "A value is trying to be set on a copy of a slice from a DataFrame.\n",
      "Try using .loc[row_indexer,col_indexer] = value instead\n",
      "\n",
      "See the caveats in the documentation: http://pandas.pydata.org/pandas-docs/stable/indexing.html#indexing-view-versus-copy\n",
      "  \"\"\"Entry point for launching an IPython kernel.\n"
     ]
    }
   ],
   "source": [
    "predict_df['C8'] = predict_df['C8'].astype('category')"
   ]
  },
  {
   "cell_type": "code",
   "execution_count": 152,
   "metadata": {},
   "outputs": [
    {
     "name": "stderr",
     "output_type": "stream",
     "text": [
      "C:\\ProgramData\\Anaconda3\\lib\\site-packages\\ipykernel_launcher.py:1: SettingWithCopyWarning: \n",
      "A value is trying to be set on a copy of a slice from a DataFrame.\n",
      "Try using .loc[row_indexer,col_indexer] = value instead\n",
      "\n",
      "See the caveats in the documentation: http://pandas.pydata.org/pandas-docs/stable/indexing.html#indexing-view-versus-copy\n",
      "  \"\"\"Entry point for launching an IPython kernel.\n"
     ]
    }
   ],
   "source": [
    "predict_df['C8'] = predict_df['C8'].cat.codes"
   ]
  },
  {
   "cell_type": "code",
   "execution_count": 153,
   "metadata": {},
   "outputs": [
    {
     "data": {
      "text/html": [
       "<div>\n",
       "<style>\n",
       "    .dataframe thead tr:only-child th {\n",
       "        text-align: right;\n",
       "    }\n",
       "\n",
       "    .dataframe thead th {\n",
       "        text-align: left;\n",
       "    }\n",
       "\n",
       "    .dataframe tbody tr th {\n",
       "        vertical-align: top;\n",
       "    }\n",
       "</style>\n",
       "<table border=\"1\" class=\"dataframe\">\n",
       "  <thead>\n",
       "    <tr style=\"text-align: right;\">\n",
       "      <th></th>\n",
       "      <th>serial_no</th>\n",
       "      <th>C1</th>\n",
       "      <th>C2</th>\n",
       "      <th>C3</th>\n",
       "      <th>C4</th>\n",
       "      <th>C5</th>\n",
       "      <th>C6</th>\n",
       "      <th>C8</th>\n",
       "    </tr>\n",
       "  </thead>\n",
       "  <tbody>\n",
       "    <tr>\n",
       "      <th>0</th>\n",
       "      <td>1</td>\n",
       "      <td>700</td>\n",
       "      <td>700</td>\n",
       "      <td>-0.623023</td>\n",
       "      <td>0.023070</td>\n",
       "      <td>-0.324773</td>\n",
       "      <td>-0.469727</td>\n",
       "      <td>0</td>\n",
       "    </tr>\n",
       "    <tr>\n",
       "      <th>2</th>\n",
       "      <td>3</td>\n",
       "      <td>702</td>\n",
       "      <td>702</td>\n",
       "      <td>-0.781059</td>\n",
       "      <td>0.023070</td>\n",
       "      <td>-0.324773</td>\n",
       "      <td>-0.870044</td>\n",
       "      <td>0</td>\n",
       "    </tr>\n",
       "    <tr>\n",
       "      <th>3</th>\n",
       "      <td>4</td>\n",
       "      <td>703</td>\n",
       "      <td>703</td>\n",
       "      <td>-0.850200</td>\n",
       "      <td>-1.693367</td>\n",
       "      <td>-1.149051</td>\n",
       "      <td>-0.870044</td>\n",
       "      <td>0</td>\n",
       "    </tr>\n",
       "    <tr>\n",
       "      <th>4</th>\n",
       "      <td>5</td>\n",
       "      <td>704</td>\n",
       "      <td>704</td>\n",
       "      <td>-0.623023</td>\n",
       "      <td>0.023070</td>\n",
       "      <td>0.263997</td>\n",
       "      <td>-0.469727</td>\n",
       "      <td>0</td>\n",
       "    </tr>\n",
       "    <tr>\n",
       "      <th>5</th>\n",
       "      <td>6</td>\n",
       "      <td>705</td>\n",
       "      <td>705</td>\n",
       "      <td>3.406895</td>\n",
       "      <td>0.595216</td>\n",
       "      <td>2.148060</td>\n",
       "      <td>-0.069410</td>\n",
       "      <td>1</td>\n",
       "    </tr>\n",
       "    <tr>\n",
       "      <th>6</th>\n",
       "      <td>7</td>\n",
       "      <td>706</td>\n",
       "      <td>706</td>\n",
       "      <td>-0.069897</td>\n",
       "      <td>0.023070</td>\n",
       "      <td>0.028489</td>\n",
       "      <td>-0.870044</td>\n",
       "      <td>1</td>\n",
       "    </tr>\n",
       "    <tr>\n",
       "      <th>7</th>\n",
       "      <td>8</td>\n",
       "      <td>707</td>\n",
       "      <td>707</td>\n",
       "      <td>-0.781059</td>\n",
       "      <td>0.023070</td>\n",
       "      <td>-0.324773</td>\n",
       "      <td>-0.870044</td>\n",
       "      <td>0</td>\n",
       "    </tr>\n",
       "    <tr>\n",
       "      <th>8</th>\n",
       "      <td>9</td>\n",
       "      <td>708</td>\n",
       "      <td>708</td>\n",
       "      <td>-0.623023</td>\n",
       "      <td>0.023070</td>\n",
       "      <td>-0.207019</td>\n",
       "      <td>-0.870044</td>\n",
       "      <td>0</td>\n",
       "    </tr>\n",
       "    <tr>\n",
       "      <th>10</th>\n",
       "      <td>11</td>\n",
       "      <td>710</td>\n",
       "      <td>710</td>\n",
       "      <td>-0.978604</td>\n",
       "      <td>-1.121221</td>\n",
       "      <td>-0.913543</td>\n",
       "      <td>-0.870044</td>\n",
       "      <td>0</td>\n",
       "    </tr>\n",
       "    <tr>\n",
       "      <th>12</th>\n",
       "      <td>13</td>\n",
       "      <td>712</td>\n",
       "      <td>712</td>\n",
       "      <td>-0.761305</td>\n",
       "      <td>-0.549075</td>\n",
       "      <td>-0.795789</td>\n",
       "      <td>-0.870044</td>\n",
       "      <td>0</td>\n",
       "    </tr>\n",
       "    <tr>\n",
       "      <th>16</th>\n",
       "      <td>17</td>\n",
       "      <td>716</td>\n",
       "      <td>716</td>\n",
       "      <td>-0.781059</td>\n",
       "      <td>0.023070</td>\n",
       "      <td>0.146243</td>\n",
       "      <td>-0.469727</td>\n",
       "      <td>1</td>\n",
       "    </tr>\n",
       "    <tr>\n",
       "      <th>17</th>\n",
       "      <td>18</td>\n",
       "      <td>717</td>\n",
       "      <td>717</td>\n",
       "      <td>1.510463</td>\n",
       "      <td>0.023070</td>\n",
       "      <td>0.381751</td>\n",
       "      <td>-0.469727</td>\n",
       "      <td>0</td>\n",
       "    </tr>\n",
       "    <tr>\n",
       "      <th>18</th>\n",
       "      <td>19</td>\n",
       "      <td>718</td>\n",
       "      <td>718</td>\n",
       "      <td>1.095618</td>\n",
       "      <td>0.595216</td>\n",
       "      <td>1.206028</td>\n",
       "      <td>1.131542</td>\n",
       "      <td>1</td>\n",
       "    </tr>\n",
       "    <tr>\n",
       "      <th>19</th>\n",
       "      <td>20</td>\n",
       "      <td>719</td>\n",
       "      <td>719</td>\n",
       "      <td>0.473351</td>\n",
       "      <td>0.595216</td>\n",
       "      <td>1.088274</td>\n",
       "      <td>1.131542</td>\n",
       "      <td>1</td>\n",
       "    </tr>\n",
       "    <tr>\n",
       "      <th>20</th>\n",
       "      <td>21</td>\n",
       "      <td>720</td>\n",
       "      <td>720</td>\n",
       "      <td>-0.781059</td>\n",
       "      <td>0.023070</td>\n",
       "      <td>-0.207019</td>\n",
       "      <td>-0.469727</td>\n",
       "      <td>0</td>\n",
       "    </tr>\n",
       "    <tr>\n",
       "      <th>21</th>\n",
       "      <td>22</td>\n",
       "      <td>721</td>\n",
       "      <td>721</td>\n",
       "      <td>-0.415601</td>\n",
       "      <td>0.595216</td>\n",
       "      <td>-0.560281</td>\n",
       "      <td>-0.870044</td>\n",
       "      <td>0</td>\n",
       "    </tr>\n",
       "    <tr>\n",
       "      <th>22</th>\n",
       "      <td>23</td>\n",
       "      <td>722</td>\n",
       "      <td>722</td>\n",
       "      <td>-0.623023</td>\n",
       "      <td>0.023070</td>\n",
       "      <td>-0.207019</td>\n",
       "      <td>-0.069410</td>\n",
       "      <td>0</td>\n",
       "    </tr>\n",
       "    <tr>\n",
       "      <th>23</th>\n",
       "      <td>24</td>\n",
       "      <td>723</td>\n",
       "      <td>723</td>\n",
       "      <td>-0.326706</td>\n",
       "      <td>0.595216</td>\n",
       "      <td>-0.089265</td>\n",
       "      <td>-0.069410</td>\n",
       "      <td>0</td>\n",
       "    </tr>\n",
       "    <tr>\n",
       "      <th>24</th>\n",
       "      <td>25</td>\n",
       "      <td>724</td>\n",
       "      <td>724</td>\n",
       "      <td>-0.593392</td>\n",
       "      <td>0.595216</td>\n",
       "      <td>-0.207019</td>\n",
       "      <td>-0.069410</td>\n",
       "      <td>0</td>\n",
       "    </tr>\n",
       "    <tr>\n",
       "      <th>25</th>\n",
       "      <td>26</td>\n",
       "      <td>725</td>\n",
       "      <td>725</td>\n",
       "      <td>-0.326706</td>\n",
       "      <td>0.595216</td>\n",
       "      <td>0.381751</td>\n",
       "      <td>0.330907</td>\n",
       "      <td>1</td>\n",
       "    </tr>\n",
       "  </tbody>\n",
       "</table>\n",
       "</div>"
      ],
      "text/plain": [
       "    serial_no   C1   C2        C3        C4        C5        C6  C8\n",
       "0           1  700  700 -0.623023  0.023070 -0.324773 -0.469727   0\n",
       "2           3  702  702 -0.781059  0.023070 -0.324773 -0.870044   0\n",
       "3           4  703  703 -0.850200 -1.693367 -1.149051 -0.870044   0\n",
       "4           5  704  704 -0.623023  0.023070  0.263997 -0.469727   0\n",
       "5           6  705  705  3.406895  0.595216  2.148060 -0.069410   1\n",
       "6           7  706  706 -0.069897  0.023070  0.028489 -0.870044   1\n",
       "7           8  707  707 -0.781059  0.023070 -0.324773 -0.870044   0\n",
       "8           9  708  708 -0.623023  0.023070 -0.207019 -0.870044   0\n",
       "10         11  710  710 -0.978604 -1.121221 -0.913543 -0.870044   0\n",
       "12         13  712  712 -0.761305 -0.549075 -0.795789 -0.870044   0\n",
       "16         17  716  716 -0.781059  0.023070  0.146243 -0.469727   1\n",
       "17         18  717  717  1.510463  0.023070  0.381751 -0.469727   0\n",
       "18         19  718  718  1.095618  0.595216  1.206028  1.131542   1\n",
       "19         20  719  719  0.473351  0.595216  1.088274  1.131542   1\n",
       "20         21  720  720 -0.781059  0.023070 -0.207019 -0.469727   0\n",
       "21         22  721  721 -0.415601  0.595216 -0.560281 -0.870044   0\n",
       "22         23  722  722 -0.623023  0.023070 -0.207019 -0.069410   0\n",
       "23         24  723  723 -0.326706  0.595216 -0.089265 -0.069410   0\n",
       "24         25  724  724 -0.593392  0.595216 -0.207019 -0.069410   0\n",
       "25         26  725  725 -0.326706  0.595216  0.381751  0.330907   1"
      ]
     },
     "execution_count": 153,
     "metadata": {},
     "output_type": "execute_result"
    }
   ],
   "source": [
    "predict_df[0:20]"
   ]
  },
  {
   "cell_type": "code",
   "execution_count": 154,
   "metadata": {},
   "outputs": [
    {
     "name": "stderr",
     "output_type": "stream",
     "text": [
      "C:\\ProgramData\\Anaconda3\\lib\\site-packages\\ipykernel_launcher.py:1: SettingWithCopyWarning: \n",
      "A value is trying to be set on a copy of a slice from a DataFrame.\n",
      "Try using .loc[row_indexer,col_indexer] = value instead\n",
      "\n",
      "See the caveats in the documentation: http://pandas.pydata.org/pandas-docs/stable/indexing.html#indexing-view-versus-copy\n",
      "  \"\"\"Entry point for launching an IPython kernel.\n"
     ]
    }
   ],
   "source": [
    "predict_df['C7'] = sgd.predict(predict_df[['C3','C4','C5','C6','C8']])"
   ]
  },
  {
   "cell_type": "code",
   "execution_count": 359,
   "metadata": {
    "collapsed": true
   },
   "outputs": [],
   "source": [
    "#predict_df"
   ]
  },
  {
   "cell_type": "code",
   "execution_count": 155,
   "metadata": {},
   "outputs": [
    {
     "data": {
      "text/plain": [
       "Healthy      232\n",
       "Unhealthy     16\n",
       "Name: C7, dtype: int64"
      ]
     },
     "execution_count": 155,
     "metadata": {},
     "output_type": "execute_result"
    }
   ],
   "source": [
    "predict_df['C7'].value_counts()"
   ]
  },
  {
   "cell_type": "code",
   "execution_count": 156,
   "metadata": {
    "collapsed": true
   },
   "outputs": [],
   "source": [
    "def c7_value_update(row):\n",
    "    if row['C3'] == 0:\n",
    "        return 'None'\n",
    "    else:\n",
    "        return 'Defaulted'"
   ]
  },
  {
   "cell_type": "code",
   "execution_count": 157,
   "metadata": {},
   "outputs": [
    {
     "name": "stderr",
     "output_type": "stream",
     "text": [
      "C:\\ProgramData\\Anaconda3\\lib\\site-packages\\ipykernel_launcher.py:1: SettingWithCopyWarning: \n",
      "A value is trying to be set on a copy of a slice from a DataFrame.\n",
      "Try using .loc[row_indexer,col_indexer] = value instead\n",
      "\n",
      "See the caveats in the documentation: http://pandas.pydata.org/pandas-docs/stable/indexing.html#indexing-view-versus-copy\n",
      "  \"\"\"Entry point for launching an IPython kernel.\n"
     ]
    }
   ],
   "source": [
    "separate_df['C7'] = separate_df.apply(lambda row: c7_value_update(row), axis=1)"
   ]
  },
  {
   "cell_type": "code",
   "execution_count": 159,
   "metadata": {
    "collapsed": true
   },
   "outputs": [],
   "source": [
    "#separate_df"
   ]
  },
  {
   "cell_type": "code",
   "execution_count": 160,
   "metadata": {},
   "outputs": [
    {
     "data": {
      "text/plain": [
       "Defaulted    46\n",
       "None          7\n",
       "Name: C7, dtype: int64"
      ]
     },
     "execution_count": 160,
     "metadata": {},
     "output_type": "execute_result"
    }
   ],
   "source": [
    "separate_df['C7'].value_counts()"
   ]
  },
  {
   "cell_type": "code",
   "execution_count": 161,
   "metadata": {
    "collapsed": true
   },
   "outputs": [],
   "source": [
    "join_df = pd.concat([predict_df,separate_df])"
   ]
  },
  {
   "cell_type": "code",
   "execution_count": 162,
   "metadata": {
    "collapsed": true
   },
   "outputs": [],
   "source": [
    "#join_df = predict_df.append(separate_df)"
   ]
  },
  {
   "cell_type": "code",
   "execution_count": 163,
   "metadata": {},
   "outputs": [
    {
     "data": {
      "text/html": [
       "<div>\n",
       "<style>\n",
       "    .dataframe thead tr:only-child th {\n",
       "        text-align: right;\n",
       "    }\n",
       "\n",
       "    .dataframe thead th {\n",
       "        text-align: left;\n",
       "    }\n",
       "\n",
       "    .dataframe tbody tr th {\n",
       "        vertical-align: top;\n",
       "    }\n",
       "</style>\n",
       "<table border=\"1\" class=\"dataframe\">\n",
       "  <thead>\n",
       "    <tr style=\"text-align: right;\">\n",
       "      <th></th>\n",
       "      <th>serial_no</th>\n",
       "      <th>C1</th>\n",
       "      <th>C2</th>\n",
       "      <th>C3</th>\n",
       "      <th>C4</th>\n",
       "      <th>C5</th>\n",
       "      <th>C6</th>\n",
       "      <th>C8</th>\n",
       "      <th>C7</th>\n",
       "    </tr>\n",
       "  </thead>\n",
       "  <tbody>\n",
       "    <tr>\n",
       "      <th>0</th>\n",
       "      <td>1</td>\n",
       "      <td>700</td>\n",
       "      <td>700</td>\n",
       "      <td>-0.623023</td>\n",
       "      <td>0.023070</td>\n",
       "      <td>-0.324773</td>\n",
       "      <td>-0.469727</td>\n",
       "      <td>0</td>\n",
       "      <td>Healthy</td>\n",
       "    </tr>\n",
       "    <tr>\n",
       "      <th>2</th>\n",
       "      <td>3</td>\n",
       "      <td>702</td>\n",
       "      <td>702</td>\n",
       "      <td>-0.781059</td>\n",
       "      <td>0.023070</td>\n",
       "      <td>-0.324773</td>\n",
       "      <td>-0.870044</td>\n",
       "      <td>0</td>\n",
       "      <td>Healthy</td>\n",
       "    </tr>\n",
       "    <tr>\n",
       "      <th>3</th>\n",
       "      <td>4</td>\n",
       "      <td>703</td>\n",
       "      <td>703</td>\n",
       "      <td>-0.850200</td>\n",
       "      <td>-1.693367</td>\n",
       "      <td>-1.149051</td>\n",
       "      <td>-0.870044</td>\n",
       "      <td>0</td>\n",
       "      <td>Healthy</td>\n",
       "    </tr>\n",
       "    <tr>\n",
       "      <th>4</th>\n",
       "      <td>5</td>\n",
       "      <td>704</td>\n",
       "      <td>704</td>\n",
       "      <td>-0.623023</td>\n",
       "      <td>0.023070</td>\n",
       "      <td>0.263997</td>\n",
       "      <td>-0.469727</td>\n",
       "      <td>0</td>\n",
       "      <td>Healthy</td>\n",
       "    </tr>\n",
       "    <tr>\n",
       "      <th>5</th>\n",
       "      <td>6</td>\n",
       "      <td>705</td>\n",
       "      <td>705</td>\n",
       "      <td>3.406895</td>\n",
       "      <td>0.595216</td>\n",
       "      <td>2.148060</td>\n",
       "      <td>-0.069410</td>\n",
       "      <td>1</td>\n",
       "      <td>Unhealthy</td>\n",
       "    </tr>\n",
       "    <tr>\n",
       "      <th>6</th>\n",
       "      <td>7</td>\n",
       "      <td>706</td>\n",
       "      <td>706</td>\n",
       "      <td>-0.069897</td>\n",
       "      <td>0.023070</td>\n",
       "      <td>0.028489</td>\n",
       "      <td>-0.870044</td>\n",
       "      <td>1</td>\n",
       "      <td>Unhealthy</td>\n",
       "    </tr>\n",
       "    <tr>\n",
       "      <th>7</th>\n",
       "      <td>8</td>\n",
       "      <td>707</td>\n",
       "      <td>707</td>\n",
       "      <td>-0.781059</td>\n",
       "      <td>0.023070</td>\n",
       "      <td>-0.324773</td>\n",
       "      <td>-0.870044</td>\n",
       "      <td>0</td>\n",
       "      <td>Healthy</td>\n",
       "    </tr>\n",
       "    <tr>\n",
       "      <th>8</th>\n",
       "      <td>9</td>\n",
       "      <td>708</td>\n",
       "      <td>708</td>\n",
       "      <td>-0.623023</td>\n",
       "      <td>0.023070</td>\n",
       "      <td>-0.207019</td>\n",
       "      <td>-0.870044</td>\n",
       "      <td>0</td>\n",
       "      <td>Healthy</td>\n",
       "    </tr>\n",
       "    <tr>\n",
       "      <th>10</th>\n",
       "      <td>11</td>\n",
       "      <td>710</td>\n",
       "      <td>710</td>\n",
       "      <td>-0.978604</td>\n",
       "      <td>-1.121221</td>\n",
       "      <td>-0.913543</td>\n",
       "      <td>-0.870044</td>\n",
       "      <td>0</td>\n",
       "      <td>Healthy</td>\n",
       "    </tr>\n",
       "    <tr>\n",
       "      <th>12</th>\n",
       "      <td>13</td>\n",
       "      <td>712</td>\n",
       "      <td>712</td>\n",
       "      <td>-0.761305</td>\n",
       "      <td>-0.549075</td>\n",
       "      <td>-0.795789</td>\n",
       "      <td>-0.870044</td>\n",
       "      <td>0</td>\n",
       "      <td>Healthy</td>\n",
       "    </tr>\n",
       "  </tbody>\n",
       "</table>\n",
       "</div>"
      ],
      "text/plain": [
       "    serial_no   C1   C2        C3        C4        C5        C6 C8         C7\n",
       "0           1  700  700 -0.623023  0.023070 -0.324773 -0.469727  0    Healthy\n",
       "2           3  702  702 -0.781059  0.023070 -0.324773 -0.870044  0    Healthy\n",
       "3           4  703  703 -0.850200 -1.693367 -1.149051 -0.870044  0    Healthy\n",
       "4           5  704  704 -0.623023  0.023070  0.263997 -0.469727  0    Healthy\n",
       "5           6  705  705  3.406895  0.595216  2.148060 -0.069410  1  Unhealthy\n",
       "6           7  706  706 -0.069897  0.023070  0.028489 -0.870044  1  Unhealthy\n",
       "7           8  707  707 -0.781059  0.023070 -0.324773 -0.870044  0    Healthy\n",
       "8           9  708  708 -0.623023  0.023070 -0.207019 -0.870044  0    Healthy\n",
       "10         11  710  710 -0.978604 -1.121221 -0.913543 -0.870044  0    Healthy\n",
       "12         13  712  712 -0.761305 -0.549075 -0.795789 -0.870044  0    Healthy"
      ]
     },
     "execution_count": 163,
     "metadata": {},
     "output_type": "execute_result"
    }
   ],
   "source": [
    "join_df[0:10]"
   ]
  },
  {
   "cell_type": "code",
   "execution_count": 164,
   "metadata": {
    "collapsed": true
   },
   "outputs": [],
   "source": [
    "join_df.sort_values('serial_no',inplace=True)"
   ]
  },
  {
   "cell_type": "code",
   "execution_count": 165,
   "metadata": {},
   "outputs": [
    {
     "data": {
      "text/html": [
       "<div>\n",
       "<style>\n",
       "    .dataframe thead tr:only-child th {\n",
       "        text-align: right;\n",
       "    }\n",
       "\n",
       "    .dataframe thead th {\n",
       "        text-align: left;\n",
       "    }\n",
       "\n",
       "    .dataframe tbody tr th {\n",
       "        vertical-align: top;\n",
       "    }\n",
       "</style>\n",
       "<table border=\"1\" class=\"dataframe\">\n",
       "  <thead>\n",
       "    <tr style=\"text-align: right;\">\n",
       "      <th></th>\n",
       "      <th>serial_no</th>\n",
       "      <th>C1</th>\n",
       "      <th>C2</th>\n",
       "      <th>C3</th>\n",
       "      <th>C4</th>\n",
       "      <th>C5</th>\n",
       "      <th>C6</th>\n",
       "      <th>C8</th>\n",
       "      <th>C7</th>\n",
       "    </tr>\n",
       "  </thead>\n",
       "  <tbody>\n",
       "    <tr>\n",
       "      <th>0</th>\n",
       "      <td>1</td>\n",
       "      <td>700</td>\n",
       "      <td>700</td>\n",
       "      <td>-0.623023</td>\n",
       "      <td>0.023070</td>\n",
       "      <td>-0.324773</td>\n",
       "      <td>-0.469727</td>\n",
       "      <td>0</td>\n",
       "      <td>Healthy</td>\n",
       "    </tr>\n",
       "    <tr>\n",
       "      <th>1</th>\n",
       "      <td>2</td>\n",
       "      <td>701</td>\n",
       "      <td>701</td>\n",
       "      <td>0.000000</td>\n",
       "      <td>0.000000</td>\n",
       "      <td>NaN</td>\n",
       "      <td>NaN</td>\n",
       "      <td>NaN</td>\n",
       "      <td>None</td>\n",
       "    </tr>\n",
       "    <tr>\n",
       "      <th>2</th>\n",
       "      <td>3</td>\n",
       "      <td>702</td>\n",
       "      <td>702</td>\n",
       "      <td>-0.781059</td>\n",
       "      <td>0.023070</td>\n",
       "      <td>-0.324773</td>\n",
       "      <td>-0.870044</td>\n",
       "      <td>0</td>\n",
       "      <td>Healthy</td>\n",
       "    </tr>\n",
       "    <tr>\n",
       "      <th>3</th>\n",
       "      <td>4</td>\n",
       "      <td>703</td>\n",
       "      <td>703</td>\n",
       "      <td>-0.850200</td>\n",
       "      <td>-1.693367</td>\n",
       "      <td>-1.149051</td>\n",
       "      <td>-0.870044</td>\n",
       "      <td>0</td>\n",
       "      <td>Healthy</td>\n",
       "    </tr>\n",
       "    <tr>\n",
       "      <th>4</th>\n",
       "      <td>5</td>\n",
       "      <td>704</td>\n",
       "      <td>704</td>\n",
       "      <td>-0.623023</td>\n",
       "      <td>0.023070</td>\n",
       "      <td>0.263997</td>\n",
       "      <td>-0.469727</td>\n",
       "      <td>0</td>\n",
       "      <td>Healthy</td>\n",
       "    </tr>\n",
       "    <tr>\n",
       "      <th>5</th>\n",
       "      <td>6</td>\n",
       "      <td>705</td>\n",
       "      <td>705</td>\n",
       "      <td>3.406895</td>\n",
       "      <td>0.595216</td>\n",
       "      <td>2.148060</td>\n",
       "      <td>-0.069410</td>\n",
       "      <td>1</td>\n",
       "      <td>Unhealthy</td>\n",
       "    </tr>\n",
       "    <tr>\n",
       "      <th>6</th>\n",
       "      <td>7</td>\n",
       "      <td>706</td>\n",
       "      <td>706</td>\n",
       "      <td>-0.069897</td>\n",
       "      <td>0.023070</td>\n",
       "      <td>0.028489</td>\n",
       "      <td>-0.870044</td>\n",
       "      <td>1</td>\n",
       "      <td>Unhealthy</td>\n",
       "    </tr>\n",
       "    <tr>\n",
       "      <th>7</th>\n",
       "      <td>8</td>\n",
       "      <td>707</td>\n",
       "      <td>707</td>\n",
       "      <td>-0.781059</td>\n",
       "      <td>0.023070</td>\n",
       "      <td>-0.324773</td>\n",
       "      <td>-0.870044</td>\n",
       "      <td>0</td>\n",
       "      <td>Healthy</td>\n",
       "    </tr>\n",
       "    <tr>\n",
       "      <th>8</th>\n",
       "      <td>9</td>\n",
       "      <td>708</td>\n",
       "      <td>708</td>\n",
       "      <td>-0.623023</td>\n",
       "      <td>0.023070</td>\n",
       "      <td>-0.207019</td>\n",
       "      <td>-0.870044</td>\n",
       "      <td>0</td>\n",
       "      <td>Healthy</td>\n",
       "    </tr>\n",
       "    <tr>\n",
       "      <th>9</th>\n",
       "      <td>10</td>\n",
       "      <td>709</td>\n",
       "      <td>709</td>\n",
       "      <td>25200.000000</td>\n",
       "      <td>90.000000</td>\n",
       "      <td>7.500000</td>\n",
       "      <td>18.000000</td>\n",
       "      <td>NaN</td>\n",
       "      <td>Defaulted</td>\n",
       "    </tr>\n",
       "  </tbody>\n",
       "</table>\n",
       "</div>"
      ],
      "text/plain": [
       "   serial_no   C1   C2            C3         C4        C5         C6   C8  \\\n",
       "0          1  700  700     -0.623023   0.023070 -0.324773  -0.469727    0   \n",
       "1          2  701  701      0.000000   0.000000       NaN        NaN  NaN   \n",
       "2          3  702  702     -0.781059   0.023070 -0.324773  -0.870044    0   \n",
       "3          4  703  703     -0.850200  -1.693367 -1.149051  -0.870044    0   \n",
       "4          5  704  704     -0.623023   0.023070  0.263997  -0.469727    0   \n",
       "5          6  705  705      3.406895   0.595216  2.148060  -0.069410    1   \n",
       "6          7  706  706     -0.069897   0.023070  0.028489  -0.870044    1   \n",
       "7          8  707  707     -0.781059   0.023070 -0.324773  -0.870044    0   \n",
       "8          9  708  708     -0.623023   0.023070 -0.207019  -0.870044    0   \n",
       "9         10  709  709  25200.000000  90.000000  7.500000  18.000000  NaN   \n",
       "\n",
       "          C7  \n",
       "0    Healthy  \n",
       "1       None  \n",
       "2    Healthy  \n",
       "3    Healthy  \n",
       "4    Healthy  \n",
       "5  Unhealthy  \n",
       "6  Unhealthy  \n",
       "7    Healthy  \n",
       "8    Healthy  \n",
       "9  Defaulted  "
      ]
     },
     "execution_count": 165,
     "metadata": {},
     "output_type": "execute_result"
    }
   ],
   "source": [
    "join_df[0:10]"
   ]
  },
  {
   "cell_type": "code",
   "execution_count": 166,
   "metadata": {
    "collapsed": true
   },
   "outputs": [],
   "source": [
    "join_df.to_csv(\"data_semantics_submission_sgd_ssscaler.csv\", index=False)"
   ]
  },
  {
   "cell_type": "code",
   "execution_count": null,
   "metadata": {
    "collapsed": true
   },
   "outputs": [],
   "source": []
  }
 ],
 "metadata": {
  "kernelspec": {
   "display_name": "Python 3",
   "language": "python",
   "name": "python3"
  },
  "language_info": {
   "codemirror_mode": {
    "name": "ipython",
    "version": 3
   },
   "file_extension": ".py",
   "mimetype": "text/x-python",
   "name": "python",
   "nbconvert_exporter": "python",
   "pygments_lexer": "ipython3",
   "version": "3.6.3"
  }
 },
 "nbformat": 4,
 "nbformat_minor": 2
}
